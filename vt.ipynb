{
 "cells": [
  {
   "cell_type": "markdown",
   "id": "dac50d5c",
   "metadata": {
    "jp-MarkdownHeadingCollapsed": true,
    "tags": []
   },
   "source": [
    "# Imports & Setup"
   ]
  },
  {
   "cell_type": "code",
   "execution_count": 1,
   "id": "82a987ec",
   "metadata": {},
   "outputs": [
    {
     "name": "stderr",
     "output_type": "stream",
     "text": [
      "C:\\Users\\aalon_przcr8o\\mambaforge\\envs\\vt\\Lib\\site-packages\\umap\\distances.py:1063: NumbaDeprecationWarning: \u001b[1mThe 'nopython' keyword argument was not supplied to the 'numba.jit' decorator. The implicit default value for this argument is currently False, but it will be changed to True in Numba 0.59.0. See https://numba.readthedocs.io/en/stable/reference/deprecation.html#deprecation-of-object-mode-fall-back-behaviour-when-using-jit for details.\u001b[0m\n",
      "  @numba.jit()\n",
      "C:\\Users\\aalon_przcr8o\\mambaforge\\envs\\vt\\Lib\\site-packages\\umap\\distances.py:1071: NumbaDeprecationWarning: \u001b[1mThe 'nopython' keyword argument was not supplied to the 'numba.jit' decorator. The implicit default value for this argument is currently False, but it will be changed to True in Numba 0.59.0. See https://numba.readthedocs.io/en/stable/reference/deprecation.html#deprecation-of-object-mode-fall-back-behaviour-when-using-jit for details.\u001b[0m\n",
      "  @numba.jit()\n",
      "C:\\Users\\aalon_przcr8o\\mambaforge\\envs\\vt\\Lib\\site-packages\\umap\\distances.py:1086: NumbaDeprecationWarning: \u001b[1mThe 'nopython' keyword argument was not supplied to the 'numba.jit' decorator. The implicit default value for this argument is currently False, but it will be changed to True in Numba 0.59.0. See https://numba.readthedocs.io/en/stable/reference/deprecation.html#deprecation-of-object-mode-fall-back-behaviour-when-using-jit for details.\u001b[0m\n",
      "  @numba.jit()\n",
      "C:\\Users\\aalon_przcr8o\\mambaforge\\envs\\vt\\Lib\\site-packages\\umap\\umap_.py:660: NumbaDeprecationWarning: \u001b[1mThe 'nopython' keyword argument was not supplied to the 'numba.jit' decorator. The implicit default value for this argument is currently False, but it will be changed to True in Numba 0.59.0. See https://numba.readthedocs.io/en/stable/reference/deprecation.html#deprecation-of-object-mode-fall-back-behaviour-when-using-jit for details.\u001b[0m\n",
      "  @numba.jit()\n"
     ]
    }
   ],
   "source": [
    "import logging, random, itertools, time, copy, math\n",
    "from typing import Iterable\n",
    "import IPython.display\n",
    "\n",
    "from tqdm.notebook import tqdm\n",
    "import numpy as np\n",
    "import matplotlib.pyplot as plt\n",
    "import pandas as pd\n",
    "\n",
    "import nltk\n",
    "# from modAL.models import ActiveLearner, Committee\n",
    "# from modAL.uncertainty import entropy_sampling\n",
    "# from modAL.disagreement import KL_max_disagreement\n",
    "from gensim.models import Word2Vec\n",
    "from gensim.models.doc2vec import Doc2Vec, TaggedDocument\n",
    "import sklearn.linear_model, sklearn.neighbors, sklearn.ensemble, sklearn.svm, sklearn.cluster, sklearn.mixture, sklearn.feature_extraction, sklearn.model_selection, sklearn.preprocessing, sklearn.metrics\n",
    "from sklearn.feature_extraction.text import TfidfVectorizer\n",
    "from sklearn.cluster import MiniBatchKMeans, HDBSCAN, OPTICS, Birch\n",
    "from sklearn.mixture import GaussianMixture\n",
    "from sklearn.model_selection import KFold, GridSearchCV\n",
    "from sklearn.preprocessing import StandardScaler\n",
    "from sklearn.metrics import classification_report, confusion_matrix, ConfusionMatrixDisplay, roc_auc_score\n",
    "#from skmultilearn.model_selection import iterative_train_test_split\n",
    "import pke\n",
    "import spacy\n",
    "#from wordcloud import WordCloud\n",
    "import torch\n",
    "from torch import nn\n",
    "from transformers import logging as transformerslogging\n",
    "from transformers import BertModel, BertTokenizer, pipeline\n",
    "from sentence_transformers import SentenceTransformer\n",
    "from bertopic import BERTopic\n",
    "from torchsummary import summary\n",
    "\n",
    "from utils import to_unixtime, to_clocktime, full_preprocess, light_preprocess, \\\n",
    "                  IDF, TF_IDF, RBipolarDatasetBuilder, ListDataset, w2vAverager, BertVectorizer, \\\n",
    "                  TFIDFVectorizerWrapper, FocalLoss, train, evaluate, train_topicmtm, evaluate_topic"
   ]
  },
  {
   "cell_type": "code",
   "execution_count": 2,
   "id": "1cefead5",
   "metadata": {},
   "outputs": [],
   "source": [
    "%load_ext autoreload\n",
    "%aimport utils\n",
    "%autoreload 1"
   ]
  },
  {
   "cell_type": "code",
   "execution_count": 3,
   "id": "546af322",
   "metadata": {},
   "outputs": [
    {
     "name": "stdout",
     "output_type": "stream",
     "text": [
      "Using device cuda NVIDIA GeForce RTX 3070 Laptop GPU\n"
     ]
    }
   ],
   "source": [
    "random.seed(539144) # from random.org\n",
    "HOME = \"D:/Python/VTech/\"            \n",
    "logging.basicConfig(\n",
    "    filename = HOME+\"project.log\", \n",
    "    filemode = \"w\",\n",
    "    format = \"[%(asctime)s] %(name)s (%(levelname)s): %(message)s\", \n",
    "    datefmt = \"%m/%d-%H:%M:%S\", \n",
    "    level = logging.DEBUG,\n",
    "    force = True,\n",
    ")\n",
    "transformerslogging.set_verbosity_error()\n",
    "device = torch.device('cuda' if torch.cuda.is_available() else 'cpu')\n",
    "print(\"Using device\", device, torch.cuda.get_device_name())"
   ]
  },
  {
   "cell_type": "markdown",
   "id": "c0ad7bb7",
   "metadata": {
    "tags": []
   },
   "source": [
    "# Main Model"
   ]
  },
  {
   "cell_type": "code",
   "execution_count": 388,
   "id": "3448ed0c",
   "metadata": {},
   "outputs": [],
   "source": [
    "class MultiTaskModule(torch.nn.Module):\n",
    "    ''' works for hard-sharing and soft-sharing parameters '''\n",
    "    def __init__(self, task_module: nn.Module, n_tasks: int=1):\n",
    "        super().__init__()\n",
    "        self.n_tasks = n_tasks\n",
    "        self.task_modules = nn.ModuleList([copy.deepcopy(task_module) for task in range(self.n_tasks)])\n",
    "        with torch.no_grad(): # TODO try removing\n",
    "            for param in self.task_modules.parameters():\n",
    "                if param.requires_grad:\n",
    "                    nn.init.uniform_(param, -1.0, 1.0)\n",
    "        self.combinations = [pair for pair in itertools.combinations(range(self.n_tasks), 2)]\n",
    "        \n",
    "    def forward(self, x) -> torch.Tensor:\n",
    "        return torch.stack([task_module(x).squeeze() for task_module in self.task_modules], dim=1)\n",
    "        \n",
    "    @staticmethod\n",
    "    def L1_distance(A: nn.Module, B: nn.Module, p=-1) -> torch.Tensor:\n",
    "        ''' Absolute distance between params/Lasso regularization; sum( A-B ) '''\n",
    "        d = torch.zeros(1).to(device)\n",
    "        for p1, p2 in zip(A.parameters(), B.parameters()):\n",
    "            if p1.requires_grad and p2.requires_grad:\n",
    "                d += (p1.sub(p2)).abs().sum()\n",
    "        return d\n",
    "    \n",
    "    @staticmethod\n",
    "    def L2_distance(A: nn.Module, B: nn.Module, group_lasso=False,p=-1) -> torch.Tensor:\n",
    "        ''' Euclidean distance between params/Ridge regularization; sqrt( sum( (A-B)^2 ) ) '''\n",
    "        d = torch.zeros(1).to(device)\n",
    "        for p1, p2 in zip(A.parameters(), B.parameters()):\n",
    "            if p1.requires_grad and p2.requires_grad:\n",
    "                d += p1.dist(p2) #* (math.sqrt(p1.numel()) if group_lasso else 1)\n",
    "        return d\n",
    "    \n",
    "    def multitask_regularization_loss(self, p: int=2, task_idx: int=None) -> torch.Tensor: #TODO depth-varying\n",
    "        loss = torch.zeros(1).to(device)\n",
    "        if p == 1: distance = MultiTaskModule.L1_distance\n",
    "        elif p == 2: distance = MultiTaskModule.L2_distance\n",
    "        else: distance = MultiTaskModule.Lp_distance\n",
    "        if task_idx is None:\n",
    "            for i1, i2 in self.combinations:\n",
    "                loss += distance(self.task_modules[i1], self.task_modules[i2], p=p)\n",
    "        else:\n",
    "            for i in range(self.n_tasks):\n",
    "                if i != task_idx:\n",
    "                    loss += distance(self.task_modules[task_idx], self.task_modules[i], p=p)\n",
    "        return loss\n",
    "\n",
    "class SharedFeatureModule(torch.nn.Module):\n",
    "    def __init__(self):\n",
    "        super().__init__()\n",
    "        self.conv1 = nn.Conv1d(1, 64, kernel_size=5, stride=1, padding=2)\n",
    "        self.conv2 = nn.Conv1d(32, 128, kernel_size=3, padding=1)\n",
    "        self.dense = nn.Sequential(\n",
    "            nn.Linear(384, 16), nn.ReLU(), nn.Dropout(0.5),\n",
    "        )\n",
    "        self.dropout = nn.Dropout(0)\n",
    "        self.maxpool = nn.MaxPool1d(kernel_size=3, stride=2, padding=1)\n",
    "        # self.avgpool = nn.AdaptiveAvgPool1d(6)\n",
    "    \n",
    "    def forward(self, x):\n",
    "        x = x.unsqueeze(1)\n",
    "        out = self.dropout(self.conv1(x))\n",
    "        # out = self.dropout(self.conv2(out))\n",
    "        out = out.mean(dim=1, keepdim=False)\n",
    "        #print(out.shape\n",
    "        # out = out.flatten(start_dim=1)\n",
    "        out = self.dense(out)\n",
    "        return out\n",
    "\n",
    "class TaskSpecificModule(torch.nn.Module):\n",
    "    def __init__(self):\n",
    "        super().__init__()\n",
    "        self.dense = nn.Sequential(\n",
    "            #nn.Linear(399, 32), nn.ReLU(),\n",
    "            nn.Linear(26, 20), nn.ReLU(), nn.Dropout(0.5),\n",
    "            #nn.Linear(64, 32), nn.ReLU(),\n",
    "          #  nn.Linear(32, 16), nn.ReLU(),\n",
    "            nn.Linear(20, 1),# nn.Sigmoid(), \n",
    "        )\n",
    "    \n",
    "    def forward(self, x):\n",
    "        # print(x.shape)\n",
    "        out = self.dense(x)\n",
    "        return out\n",
    "\n",
    "class ConvMLP_MTM(torch.nn.Module):\n",
    "    def __init__(self, n_tasks=3, n_topics=10, task_alphas: tuple[float]=(1,1,1), joint_beta: float=0, focal_gamma: float=2, reg_delta: float=0, reg_epsilon: float=0):\n",
    "        super().__init__()\n",
    "        self.shared = SharedFeatureModule()\n",
    "        self.multitask = MultiTaskModule(TaskSpecificModule(), n_tasks)\n",
    "        self.fc1 = nn.Linear(n_topics, 10) # ---------------------------------------------------------\n",
    "        #self.task_alphas = nn.Parameter(torch.Tensor(task_alphas), requires_grad=False)\n",
    "        # self.task_loss = nn.BCEWithLogitsLoss(weight=self.task_alphas)\n",
    "        self.task_loss = nn.BCEWithLogitsLoss(weight=torch.Tensor(task_alphas))\n",
    "        self.joint_loss = FocalLoss(gamma=focal_gamma)#, alpha=task_alphas)\n",
    "        self.joint_beta = nn.Parameter(torch.Tensor([joint_beta]), requires_grad=False)\n",
    "        self.mtmreg_delta = nn.Parameter(torch.Tensor([reg_delta]), requires_grad=False)\n",
    "        self.reg_epsilon = nn.Parameter(torch.Tensor([reg_epsilon]), requires_grad=False)\n",
    "        #print(self.joint_beta, self.mtmreg_delta, self.reg_epsilon)\n",
    "    \n",
    "    def forward(self, x, topic_vec):\n",
    "        out = x\n",
    "        out = self.shared(out)\n",
    "        topic_vec = nn.functional.relu(self.fc1(topic_vec))\n",
    "        out = torch.cat((out, topic_vec), dim=1)\n",
    "        out = self.multitask(out)\n",
    "        # out = self.multitask((x, topic_vec))\n",
    "        return out\n",
    "    \n",
    "    def reg_loss(self, p=2):\n",
    "        l = torch.zeros(1).to(device)\n",
    "        for param in self.parameters():\n",
    "            if param.requires_grad:\n",
    "                l += param.norm(p) #* math.sqrt(param.numel())\n",
    "        return l\n",
    "    \n",
    "    def calc_loss(self, output, truth):\n",
    "        joint_loss = self.joint_loss(output, truth) * self.joint_beta\n",
    "        # task_loss = torch.zeros(1).to(device)\n",
    "        task_loss = self.task_loss(output, truth)\n",
    "        # for y_out, y_truth, alpha in zip(output, truth, self.alphas):\n",
    "        #     task_loss += self.task_loss(y_out, y_truth) * alpha\n",
    "        mtmreg_loss = self.multitask.multitask_regularization_loss(p=2, task_idx=None) * self.mtmreg_delta\n",
    "        reg_loss = self.reg_loss(p=1) * self.reg_epsilon\n",
    "        # print(self.joint_beta, self.mtmreg_delta)\n",
    "        # print(task_loss, joint_loss, mtmreg_loss, reg_loss)\n",
    "        return task_loss + joint_loss + mtmreg_loss + reg_loss\n",
    "\n",
    "class ConvMLP_soft(ConvMLP_MTM):\n",
    "    def __init__(self, *args, **kwargs):\n",
    "        super().__init__(*args, **kwargs)\n",
    "        del self.shared\n",
    "        self.multitask = MultiTaskModule(SharedFeatureModule(), n_tasks=3)\n",
    "        self.mlps = nn.ModuleList([TaskSpecificModule() for t in range(3)])\n",
    "    \n",
    "    def forward(self, x, topic_vec):\n",
    "        out = self.multitask(x)\n",
    "        topic_vec = nn.functional.relu(self.fc1(topic_vec))\n",
    "        out = [self.mlps[t](torch.cat((out[:, t], topic_vec), dim=1)) for t in range(3)]\n",
    "        # out = [self.mlps[t](out[:, t]) for t in range(3)]\n",
    "        return torch.stack(out).squeeze().transpose(0, 1)"
   ]
  },
  {
   "cell_type": "markdown",
   "id": "47c6cb35",
   "metadata": {
    "tags": []
   },
   "source": [
    "# Data"
   ]
  },
  {
   "cell_type": "markdown",
   "id": "20e9a0fe",
   "metadata": {
    "jp-MarkdownHeadingCollapsed": true,
    "tags": []
   },
   "source": [
    "## Extract, Balance, and Save a Dataset"
   ]
  },
  {
   "cell_type": "code",
   "execution_count": 447,
   "id": "40c25fec",
   "metadata": {},
   "outputs": [],
   "source": [
    "def make_dataset():\n",
    "    portion = 216\n",
    "    order = ['created_utc','id','selftext','title','subreddit','anxiety','bipolar','depression']\n",
    "\n",
    "    df0 = pd.read_excel(\"D:/Python/VTech/bysubredditdata/rbipolar_0-2000_3001-3803_5001-6000.xlsx\",header=0, index_col=0).iloc[:2001]\n",
    "    #df = df.iloc[np.r_[0:2001, 5001:5931], [1,2,3,4,5,7,8,9]]\n",
    "    #df = df.sample(frac=1)\n",
    "    # df0 = pd.DataFrame(columns=order)\n",
    "    # a, b, d, z = 0,0,0,0\n",
    "    # for idx, row in df.iterrows():\n",
    "    #     anx, dep, bip = row[['anxiety', 'depression', 'bipolar']]\n",
    "    #     if anx == 1 or dep == 1:\n",
    "    #         df0.loc[len(df0.index)] = row\n",
    "    #     elif anx == 0 and dep == 0 and bip == 0:\n",
    "    #         z += 1\n",
    "    #         if z <= portion:\n",
    "    #             df0.loc[len(df0.index)] = row\n",
    "    #print(a, b, d, z)\n",
    "    a, b, d, z = 0,0,0,0\n",
    "    for idx, row in df0.iterrows():\n",
    "        if row['anxiety'] == 1: a += 1\n",
    "        if row['bipolar'] == 1: b += 1\n",
    "        if row['depression'] == 1: d += 1\n",
    "        if row['anxiety']==0 and row['bipolar']==0 and row['depression']==0: z += 1\n",
    "    print(a, b, d, z)\n",
    "\n",
    "    df1 = pd.read_excel(HOME+\"bysubredditdata/rbipolar_3501-3850_Rocco.xlsx\", header=0, index_col=0)\n",
    "    \n",
    "    # Control\n",
    "    # df1 = pd.read_csv(\"D:/Python/VTech/bysubredditdata/raskreddit_1M2021.csv\")\n",
    "    # df1['subreddit'] = \"askreddit\"\n",
    "    # df1['anxiety'] = 0; df1['bipolar'] = 0; df1['depression'] = 0;\n",
    "    # df1 = df1[order]\n",
    "    # df1 = df1.sample(portion)\n",
    "    \n",
    "    # df2 = pd.read_csv(\"D:/Python/VTech/bysubredditdata/rjokes_1M2015-2020.csv\")\n",
    "    # df2['subreddit'] = \"jokes\"\n",
    "    # df2['anxiety'] = 0; df2['bipolar'] = 0; df2['depression'] = 0;\n",
    "    # df2 = df2[order]\n",
    "    # df2 = df2.sample(portion)\n",
    "    \n",
    "    # df3 = pd.read_excel(\"D:/Python/VTech/bysubredditdata/rcozyplaces&rcasualconversation&etc_2021&2022.xlsx\")# 4 subreddits\n",
    "    # df3.rename(columns={\"date\":\"created_utc\",\"text\":\"selftext\"}, inplace=True)\n",
    "    # df3['title'] = \"removed\" # will get removed in processing\n",
    "    # df3['subreddit'] = 'cozyplaces,CasualConversation,etc.'\n",
    "    # df3['anxiety'] = 0; df3['bipolar'] = 0; df3['depression'] = 0;\n",
    "    # df3 = df3[order]\n",
    "    # df3 = df3.sample(3*portion)\n",
    "    \n",
    "    collective = pd.concat([df0, df1,])# df2, df3])\n",
    "    collective.reset_index(inplace=True)\n",
    "    collective.drop(columns='index', inplace=True)\n",
    "    \n",
    "    a, b, d, z = 0,0,0,0\n",
    "    for idx, row in collective.iterrows():\n",
    "        anx, dep, bip = row[['anxiety', 'depression', 'bipolar']]\n",
    "        if anx == 1: a += 1\n",
    "        if bip == 1: b += 1\n",
    "        if dep == 1: d += 1\n",
    "        if anx==0 and bip == 0 and dep == 0: z += 1\n",
    "    print(\"count of anxiety, bipolar, depression, none:\",a,b,d,z)\n",
    "    \n",
    "    collective.to_excel(HOME+\"data/RoccoUnbalanced/dataset_2351.xlsx\")\n",
    "    return"
   ]
  },
  {
   "cell_type": "code",
   "execution_count": 449,
   "id": "f4fac09a",
   "metadata": {},
   "outputs": [
    {
     "name": "stdout",
     "output_type": "stream",
     "text": [
      "273 1281 311 553\n",
      "count of anxiety, bipolar, depression, none: 326 1482 378 663\n"
     ]
    }
   ],
   "source": [
    "make_dataset()\n",
    "# df = pd.read_csv(\"D:/Python/VTech/bysubredditdata/rbipolar_2020&2021.csv\")\n",
    "# df = df.iloc[ np.r_[0:2001,5001:6001] , [1,2,3,\"4,5,6,8,9,10] ]\n",
    "# df.to_csv(\"D:/Python/VTech/data/rbipolar_2020&2021-LABELED.csv\")"
   ]
  },
  {
   "cell_type": "markdown",
   "id": "19ae0c4f",
   "metadata": {
    "tags": []
   },
   "source": [
    "## Create and Save Embeddings"
   ]
  },
  {
   "cell_type": "code",
   "execution_count": 354,
   "id": "dfbcae93",
   "metadata": {
    "slideshow": {
     "slide_type": "skip"
    },
    "tags": []
   },
   "outputs": [],
   "source": [
    "dataroot = HOME+\"data/AllBalanced/\"\n",
    "dataset = RBipolarDatasetBuilder(file_path = dataroot+\"dataset_1847.xlsx\")"
   ]
  },
  {
   "cell_type": "markdown",
   "id": "3e00c9a3",
   "metadata": {
    "jp-MarkdownHeadingCollapsed": true,
    "tags": []
   },
   "source": [
    "### TF-IDF"
   ]
  },
  {
   "cell_type": "code",
   "execution_count": 8,
   "id": "31080316",
   "metadata": {},
   "outputs": [],
   "source": [
    "def make_tfidf():\n",
    "    dataset.preprocess = full_preprocess; dataset.vectorizer = None; dataset.n_grams = 0\n",
    "    tfidf = TfidfVectorizer()\n",
    "    tfidf.fit([' '.join(sample[0]) for sample in dataset])\n",
    "    dataset.vectorizer = TFIDFVectorizerWrapper(tfidf)\n",
    "    print(\"Saving TF-IDFs\")\n",
    "    torch.save([(vec, label) for vec, label in tqdm(dataset)], HOME+\"data/tfidf_embeddings.pt\")"
   ]
  },
  {
   "cell_type": "markdown",
   "id": "c72ea3af",
   "metadata": {
    "jp-MarkdownHeadingCollapsed": true,
    "tags": []
   },
   "source": [
    "### doc2vec"
   ]
  },
  {
   "cell_type": "code",
   "execution_count": 270,
   "id": "3dff282c",
   "metadata": {},
   "outputs": [],
   "source": [
    "def make_doc2vec():\n",
    "    dataset.preprocess = full_preprocess; dataset.vectorizer = None; dataset.n_grams = 0\n",
    "    d2v = Doc2Vec(\n",
    "        documents = [ TaggedDocument(sample[0], [i]) for i,sample in enumerate(dataset) ],\n",
    "        vector_size = 200,\n",
    "        epochs = 69,\n",
    "    )\n",
    "    d2v.save(\"D:/Python/VTech/models/Doc2Vec_v3\")\n",
    "    d2v = Doc2Vec.load(\"D:/Python/VTech/models/Doc2Vec_v3\")\n",
    "    dataset.vectorizer = d2v.infer_vector\n",
    "    print(\"Saving doc2vecs\")\n",
    "    torch.save([(vec, label) for vec, label in tqdm(dataset)], HOME+\"data/doc2vec_embeddings.pt\")"
   ]
  },
  {
   "cell_type": "markdown",
   "id": "f23dc208",
   "metadata": {
    "jp-MarkdownHeadingCollapsed": true,
    "tags": []
   },
   "source": [
    "### word2vec + Average"
   ]
  },
  {
   "cell_type": "code",
   "execution_count": 10,
   "id": "6bddc706",
   "metadata": {},
   "outputs": [],
   "source": [
    "def make_word2vecavg():\n",
    "    dataset.preprocess = full_preprocess; dataset.vectorizer = None; dataset.n_grams = 0\n",
    "    # w2v = Word2Vec(\n",
    "    #     sentences = [sample[0] for sample in dataset],\n",
    "    #     vector_size = 200,\n",
    "    #     epochs = 69,\n",
    "    # )\n",
    "    # w2v.save(\"D:/Python/VTech/models/Word2Vec_v2\")\n",
    "    w2v = Word2Vec.load(HOME+\"models/Word2Vec_v2\")\n",
    "    dataset.vectorizer = w2vAverager(w2v.wv)\n",
    "    print(\"Saving word2vec avgs\")\n",
    "    torch.save([(vec, label) for vec, label in tqdm(dataset)], HOME+\"data/word2vecavg_embeddings.pt\")"
   ]
  },
  {
   "cell_type": "markdown",
   "id": "8d21f60a",
   "metadata": {
    "jp-MarkdownHeadingCollapsed": true,
    "tags": []
   },
   "source": [
    "### BERT + Average"
   ]
  },
  {
   "cell_type": "code",
   "execution_count": 563,
   "id": "b29317e2",
   "metadata": {},
   "outputs": [],
   "source": [
    "def make_BERTavg():\n",
    "    dataset.preprocess = light_preprocess; dataset.vectorizer = None; dataset.n_grams = 1\n",
    "    bert = BertModel.from_pretrained('bert-base-uncased').to(device)\n",
    "    #bert = BertModel.from_pretrained(\"D:/Python/VTech/models/BERTModel\")\n",
    "    bert.eval()\n",
    "    tokenizer = BertTokenizer.from_pretrained('bert-base-uncased')\n",
    "    #tokenizer = BertTokenizer.from_pretrained(\"D:/Python/VTech/models/BERTTokenizer\")\n",
    "    dataset.vectorizer = BertVectorizer(bert, tokenizer, device)\n",
    "    with torch.no_grad():\n",
    "        print(\"Saving BERT avgs\")\n",
    "        cpu = torch.device('cpu')\n",
    "        torch.save([(vec.to(cpu), label.to(cpu)) for vec, label in tqdm(dataset)], dataroot+\"BERTavg_embeddings.pt\")"
   ]
  },
  {
   "cell_type": "markdown",
   "id": "6be4f8bb",
   "metadata": {
    "tags": []
   },
   "source": [
    "### Sentence-BERT"
   ]
  },
  {
   "cell_type": "code",
   "execution_count": 367,
   "id": "c5fd96ff",
   "metadata": {},
   "outputs": [],
   "source": [
    "def make_SBERT():\n",
    "    dataset.preprocess = light_preprocess; dataset.vectorizer = None; dataset.n_grams = 1\n",
    "    sbert = SentenceTransformer('all-MiniLM-L6-v2')\n",
    "    # sbert = SentenceTransformer.load(\"D:/Python/VTech/models/SBERTModel\")\n",
    "    texts = []\n",
    "    labels = []\n",
    "    for text, label in dataset:\n",
    "        texts.append(text)\n",
    "        labels.append(label)\n",
    "    print(\"Encoding...\",end='\\r')\n",
    "    vecs = sbert.encode(dataset, show_progress_bar=True, convert_to_numpy=False, device=torch.device('cuda'))\n",
    "    print(\"Saving...\", end='\\r')\n",
    "    torch.save([(vec.squeeze(),label) for vec,label in zip(vecs, labels)], dataroot+\"SBERT_embeddings.pt\")"
   ]
  },
  {
   "cell_type": "markdown",
   "id": "15a3bd12",
   "metadata": {
    "tags": []
   },
   "source": [
    "### Embeddings"
   ]
  },
  {
   "cell_type": "code",
   "execution_count": 368,
   "id": "54c3eb8c",
   "metadata": {},
   "outputs": [
    {
     "name": "stdout",
     "output_type": "stream",
     "text": [
      "Encoding...\r"
     ]
    },
    {
     "data": {
      "application/vnd.jupyter.widget-view+json": {
       "model_id": "321a4e7834354623914194da5ff2fc5f",
       "version_major": 2,
       "version_minor": 0
      },
      "text/plain": [
       "Batches:   0%|          | 0/58 [00:00<?, ?it/s]"
      ]
     },
     "metadata": {},
     "output_type": "display_data"
    },
    {
     "name": "stdout",
     "output_type": "stream",
     "text": [
      "Saving...\r"
     ]
    }
   ],
   "source": [
    "# make_tfidf()\n",
    "# make_doc2vec()\n",
    "# make_word2vecavg()\n",
    "# make_BERTavg()\n",
    "make_SBERT()"
   ]
  },
  {
   "cell_type": "code",
   "execution_count": 307,
   "id": "67f71389-6b7a-4592-8718-299419cdf77e",
   "metadata": {},
   "outputs": [],
   "source": [
    "l = torch.load(HOME+\"data/CaseStudy/SBERT_embeddings.pt\")"
   ]
  },
  {
   "cell_type": "code",
   "execution_count": 5,
   "id": "f45c03b6-4bef-4f7e-861a-5d5e6791bfef",
   "metadata": {},
   "outputs": [],
   "source": [
    "df = pd.read_excel(HOME+\"data/AllBalanced/dataset_1847.xlsx\")"
   ]
  },
  {
   "cell_type": "code",
   "execution_count": 6,
   "id": "ab50cfc0-03b7-47a4-a057-1fbe2a65c5f8",
   "metadata": {},
   "outputs": [
    {
     "name": "stdout",
     "output_type": "stream",
     "text": [
      "534 817 631 747 150 250\n"
     ]
    }
   ],
   "source": [
    "ta,tb,td,tc, tob,tbd = 0,0,0,0,0,0\n",
    "ob, oc, bd = [],[],[]\n",
    "for i,row in df.iterrows():\n",
    "    a,b,d = row.loc['anxiety'], row.loc['bipolar'], row.loc['depression']\n",
    "    ta += a; tb += b; td += d\n",
    "    if a==0 and b==0 and d==0: tc += 1; oc.append(i)\n",
    "    elif a==0 and b==1 and d==0: tob += 1; ob.append(i)\n",
    "    elif a==0 and b==1 and d==1: tbd += 1; bd.append(i)\n",
    "print(ta,tb,td,tc, tob,tbd)"
   ]
  },
  {
   "cell_type": "code",
   "execution_count": 554,
   "id": "3d9b19f1-1930-4edc-a3a0-a0de6a47f1aa",
   "metadata": {},
   "outputs": [],
   "source": [
    "drops = []\n",
    "for i in ob:\n",
    "    if random.random() < 0.906:\n",
    "        drops.append(i)\n",
    "for i in oc:\n",
    "    if random.random() < 0.66:\n",
    "        drops.append(i)\n",
    "# for i in bd:\n",
    "#     if random.random() < 0.4:\n",
    "#         drops.append(i)"
   ]
  },
  {
   "cell_type": "code",
   "execution_count": 556,
   "id": "7c6fcd55-56c6-4676-82b8-7b4f2fa7fa49",
   "metadata": {},
   "outputs": [],
   "source": [
    "df = df.drop(drops)"
   ]
  },
  {
   "cell_type": "code",
   "execution_count": 560,
   "id": "f0c2448c-9576-41c0-8b35-fdf09991d085",
   "metadata": {},
   "outputs": [],
   "source": [
    "df.to_excel(HOME+\"data/AllBalanced/dataset_1847.xlsx\")"
   ]
  },
  {
   "cell_type": "markdown",
   "id": "c4c9435f",
   "metadata": {
    "tags": []
   },
   "source": [
    "## Load Data"
   ]
  },
  {
   "cell_type": "code",
   "execution_count": 369,
   "id": "668b1dcf",
   "metadata": {},
   "outputs": [
    {
     "name": "stdout",
     "output_type": "stream",
     "text": [
      "1847 total data points\n",
      "Embeddings are of type <class 'torch.Tensor'> with shape torch.Size([384])\n",
      "Lithium dose increase - side effects? [removed] tensor([0., 1., 0.])\n"
     ]
    }
   ],
   "source": [
    "dataroot = HOME+\"data/AllBalanced/\"\n",
    "data = torch.load(dataroot+\"SBERT_embeddings.pt\")\n",
    "# raw_text = [ str(row['text']) for _,row in pd.read_csv(HOME+\"data/RoccoShailikBalanced/dataset_2000.csv\").iterrows() ]\n",
    "raw_text = [ str(row['title'])+\" \"+str(row['selftext'])\n",
    "                for i,row in pd.read_excel(dataroot+\"dataset_1847.xlsx\").loc[:,['selftext','title']].iterrows() ]\n",
    "_temp = list(zip(data, raw_text))\n",
    "random.shuffle(_temp)\n",
    "data, raw_text = zip(*_temp)\n",
    "xEmbeddings = [emb for emb,label in data]\n",
    "yLabels = [label for emb,label in data]\n",
    "print(len(xEmbeddings), \"total data points\")\n",
    "print(\"Embeddings are of type\", type(xEmbeddings[0]), \"with shape\", xEmbeddings[0].shape)\n",
    "print(raw_text[0], yLabels[0])"
   ]
  },
  {
   "cell_type": "markdown",
   "id": "208f2d69",
   "metadata": {
    "tags": []
   },
   "source": [
    "## Topic Modeling"
   ]
  },
  {
   "cell_type": "code",
   "execution_count": 370,
   "id": "2601b128",
   "metadata": {},
   "outputs": [
    {
     "name": "stdout",
     "output_type": "stream",
     "text": [
      "disassociating depressed disassociate badly like zone hard thing move tell cant getting better lamictal still bad sick anyone relate\n"
     ]
    }
   ],
   "source": [
    "# processor = RBipolarDatasetBuilder(preprocess = full_preprocess, vectorizer = None)\n",
    "docs = [full_preprocess(raw) for raw in raw_text]\n",
    "topic_model = BERTopic(calculate_probabilities=True, nr_topics=20+1) # +1 for control topic\n",
    "print(docs[100])"
   ]
  },
  {
   "cell_type": "code",
   "execution_count": 372,
   "id": "87041ae7",
   "metadata": {},
   "outputs": [
    {
     "name": "stdout",
     "output_type": "stream",
     "text": [
      "[2.52617648e-307 1.87632553e-307 1.00000000e+000 1.94553171e-308\n",
      " 2.08345704e-308 2.10619556e-308 2.58062503e-308 3.94417294e-308\n",
      " 3.84176929e-308 3.96077646e-308 5.23435484e-308 3.01424811e-308\n",
      " 5.63790555e-308 5.55229276e-308 8.04273136e-308 3.57483507e-308\n",
      " 5.32313105e-308 4.09578367e-308 3.21009185e-308 3.38047104e-308]\n"
     ]
    },
    {
     "data": {
      "text/html": [
       "<div>\n",
       "<style scoped>\n",
       "    .dataframe tbody tr th:only-of-type {\n",
       "        vertical-align: middle;\n",
       "    }\n",
       "\n",
       "    .dataframe tbody tr th {\n",
       "        vertical-align: top;\n",
       "    }\n",
       "\n",
       "    .dataframe thead th {\n",
       "        text-align: right;\n",
       "    }\n",
       "</style>\n",
       "<table border=\"1\" class=\"dataframe\">\n",
       "  <thead>\n",
       "    <tr style=\"text-align: right;\">\n",
       "      <th></th>\n",
       "      <th>Topic</th>\n",
       "      <th>Count</th>\n",
       "      <th>Name</th>\n",
       "      <th>Representation</th>\n",
       "      <th>Representative_Docs</th>\n",
       "    </tr>\n",
       "  </thead>\n",
       "  <tbody>\n",
       "    <tr>\n",
       "      <th>0</th>\n",
       "      <td>-1</td>\n",
       "      <td>806</td>\n",
       "      <td>-1_like_feel_get_really</td>\n",
       "      <td>[like, feel, get, really, know, time, want, ca...</td>\n",
       "      <td>[wish one fucking person loved want know like ...</td>\n",
       "    </tr>\n",
       "    <tr>\n",
       "      <th>1</th>\n",
       "      <td>0</td>\n",
       "      <td>194</td>\n",
       "      <td>0_bipolar_like_episode_manic</td>\n",
       "      <td>[bipolar, like, episode, manic, know, feel, ge...</td>\n",
       "      <td>[role reversed know pretty stable medicated ye...</td>\n",
       "    </tr>\n",
       "    <tr>\n",
       "      <th>2</th>\n",
       "      <td>1</td>\n",
       "      <td>184</td>\n",
       "      <td>1_feel_like_get_time</td>\n",
       "      <td>[feel, like, get, time, day, know, want, feeli...</td>\n",
       "      <td>[tired right thing still feeling like shit ran...</td>\n",
       "    </tr>\n",
       "    <tr>\n",
       "      <th>3</th>\n",
       "      <td>2</td>\n",
       "      <td>152</td>\n",
       "      <td>2_anxiety_lithium_medication_weight</td>\n",
       "      <td>[anxiety, lithium, medication, weight, lamicta...</td>\n",
       "      <td>[bipolar med weight gain side effect lamotrigi...</td>\n",
       "    </tr>\n",
       "    <tr>\n",
       "      <th>4</th>\n",
       "      <td>3</td>\n",
       "      <td>72</td>\n",
       "      <td>3_deleted_cozy_whats_group</td>\n",
       "      <td>[deleted, cozy, whats, group, beautiful, ganon...</td>\n",
       "      <td>[much mine love deleted, made therapist delete...</td>\n",
       "    </tr>\n",
       "    <tr>\n",
       "      <th>5</th>\n",
       "      <td>4</td>\n",
       "      <td>62</td>\n",
       "      <td>4_cozy_christmas_room_merry</td>\n",
       "      <td>[cozy, christmas, room, merry, living, warm, f...</td>\n",
       "      <td>[small cozy room, cozy christmas corner, merry...</td>\n",
       "    </tr>\n",
       "    <tr>\n",
       "      <th>6</th>\n",
       "      <td>5</td>\n",
       "      <td>55</td>\n",
       "      <td>5_writing_story_book_character</td>\n",
       "      <td>[writing, story, book, character, novel, write...</td>\n",
       "      <td>[good writing craft book middle outlining nove...</td>\n",
       "    </tr>\n",
       "    <tr>\n",
       "      <th>7</th>\n",
       "      <td>6</td>\n",
       "      <td>47</td>\n",
       "      <td>6_hello_question_test_hmmm</td>\n",
       "      <td>[hello, question, test, hmmm, reggie, boner, f...</td>\n",
       "      <td>[hello, hello, always looking reason show pict...</td>\n",
       "    </tr>\n",
       "    <tr>\n",
       "      <th>8</th>\n",
       "      <td>7</td>\n",
       "      <td>37</td>\n",
       "      <td>7_suicidal_harm_suicide_self</td>\n",
       "      <td>[suicidal, harm, suicide, self, thought, want,...</td>\n",
       "      <td>[cant keep feeling like anymore rapid cycling ...</td>\n",
       "    </tr>\n",
       "    <tr>\n",
       "      <th>9</th>\n",
       "      <td>8</td>\n",
       "      <td>34</td>\n",
       "      <td>8_art_instrument_violin_painted</td>\n",
       "      <td>[art, instrument, violin, painted, artwork, pi...</td>\n",
       "      <td>[bipolar art, love portishead instrumentals st...</td>\n",
       "    </tr>\n",
       "    <tr>\n",
       "      <th>10</th>\n",
       "      <td>9</td>\n",
       "      <td>31</td>\n",
       "      <td>9_relationship_friend_life_want</td>\n",
       "      <td>[relationship, friend, life, want, year, boyfr...</td>\n",
       "      <td>[breakup thing broke boyfriend year here story...</td>\n",
       "    </tr>\n",
       "    <tr>\n",
       "      <th>11</th>\n",
       "      <td>10</td>\n",
       "      <td>30</td>\n",
       "      <td>10_bipolar_adhd_depression_wrote</td>\n",
       "      <td>[bipolar, adhd, depression, wrote, cortex, enc...</td>\n",
       "      <td>[bipolar, bipolar, bipolar]</td>\n",
       "    </tr>\n",
       "    <tr>\n",
       "      <th>12</th>\n",
       "      <td>11</td>\n",
       "      <td>27</td>\n",
       "      <td>11_post_edit_joke_sub</td>\n",
       "      <td>[post, edit, joke, sub, comment, people, reddi...</td>\n",
       "      <td>[absolutely mortified made post different sub ...</td>\n",
       "    </tr>\n",
       "    <tr>\n",
       "      <th>13</th>\n",
       "      <td>12</td>\n",
       "      <td>24</td>\n",
       "      <td>12_med_monday_art_vaccine</td>\n",
       "      <td>[med, monday, art, vaccine, lose, pack, doctor...</td>\n",
       "      <td>[take med, med monday mega thread med related ...</td>\n",
       "    </tr>\n",
       "    <tr>\n",
       "      <th>14</th>\n",
       "      <td>13</td>\n",
       "      <td>17</td>\n",
       "      <td>13_scared_sleep_terrified_wake</td>\n",
       "      <td>[scared, sleep, terrified, wake, going, day, l...</td>\n",
       "      <td>[nightmare week really messed adrenaline rushi...</td>\n",
       "    </tr>\n",
       "    <tr>\n",
       "      <th>15</th>\n",
       "      <td>14</td>\n",
       "      <td>15</td>\n",
       "      <td>14_anxiety_list_tripping_technique</td>\n",
       "      <td>[anxiety, list, tripping, technique, forgettin...</td>\n",
       "      <td>[anxiety want run rampant thankfully topamax j...</td>\n",
       "    </tr>\n",
       "    <tr>\n",
       "      <th>16</th>\n",
       "      <td>15</td>\n",
       "      <td>15</td>\n",
       "      <td>15_vietnam_soul_usa_war</td>\n",
       "      <td>[vietnam, soul, usa, war, north, south, wish, ...</td>\n",
       "      <td>[trip wiser onetraveler hello wise welcome lon...</td>\n",
       "    </tr>\n",
       "    <tr>\n",
       "      <th>17</th>\n",
       "      <td>16</td>\n",
       "      <td>12</td>\n",
       "      <td>16_depressive_episode_downward_get</td>\n",
       "      <td>[depressive, episode, downward, get, long, bad...</td>\n",
       "      <td>[depressive episode hard get, depressive episo...</td>\n",
       "    </tr>\n",
       "    <tr>\n",
       "      <th>18</th>\n",
       "      <td>17</td>\n",
       "      <td>12</td>\n",
       "      <td>17_job_work_late_got</td>\n",
       "      <td>[job, work, late, got, well, unemployment, sur...</td>\n",
       "      <td>[accidentally quit job got great job something...</td>\n",
       "    </tr>\n",
       "    <tr>\n",
       "      <th>19</th>\n",
       "      <td>18</td>\n",
       "      <td>11</td>\n",
       "      <td>18_dog_service_animal_certified</td>\n",
       "      <td>[dog, service, animal, certified, alpaca, here...</td>\n",
       "      <td>[dog breeding lot popular dog absolutely immor...</td>\n",
       "    </tr>\n",
       "    <tr>\n",
       "      <th>20</th>\n",
       "      <td>19</td>\n",
       "      <td>10</td>\n",
       "      <td>19_birthday_favorite_poop_coin</td>\n",
       "      <td>[birthday, favorite, poop, coin, restroom, rus...</td>\n",
       "      <td>[favorite show everybody hate love, whats wors...</td>\n",
       "    </tr>\n",
       "  </tbody>\n",
       "</table>\n",
       "</div>"
      ],
      "text/plain": [
       "    Topic  Count                                 Name  \\\n",
       "0      -1    806              -1_like_feel_get_really   \n",
       "1       0    194         0_bipolar_like_episode_manic   \n",
       "2       1    184                 1_feel_like_get_time   \n",
       "3       2    152  2_anxiety_lithium_medication_weight   \n",
       "4       3     72           3_deleted_cozy_whats_group   \n",
       "5       4     62          4_cozy_christmas_room_merry   \n",
       "6       5     55       5_writing_story_book_character   \n",
       "7       6     47           6_hello_question_test_hmmm   \n",
       "8       7     37         7_suicidal_harm_suicide_self   \n",
       "9       8     34      8_art_instrument_violin_painted   \n",
       "10      9     31      9_relationship_friend_life_want   \n",
       "11     10     30     10_bipolar_adhd_depression_wrote   \n",
       "12     11     27                11_post_edit_joke_sub   \n",
       "13     12     24            12_med_monday_art_vaccine   \n",
       "14     13     17       13_scared_sleep_terrified_wake   \n",
       "15     14     15   14_anxiety_list_tripping_technique   \n",
       "16     15     15              15_vietnam_soul_usa_war   \n",
       "17     16     12   16_depressive_episode_downward_get   \n",
       "18     17     12                 17_job_work_late_got   \n",
       "19     18     11      18_dog_service_animal_certified   \n",
       "20     19     10       19_birthday_favorite_poop_coin   \n",
       "\n",
       "                                       Representation  \\\n",
       "0   [like, feel, get, really, know, time, want, ca...   \n",
       "1   [bipolar, like, episode, manic, know, feel, ge...   \n",
       "2   [feel, like, get, time, day, know, want, feeli...   \n",
       "3   [anxiety, lithium, medication, weight, lamicta...   \n",
       "4   [deleted, cozy, whats, group, beautiful, ganon...   \n",
       "5   [cozy, christmas, room, merry, living, warm, f...   \n",
       "6   [writing, story, book, character, novel, write...   \n",
       "7   [hello, question, test, hmmm, reggie, boner, f...   \n",
       "8   [suicidal, harm, suicide, self, thought, want,...   \n",
       "9   [art, instrument, violin, painted, artwork, pi...   \n",
       "10  [relationship, friend, life, want, year, boyfr...   \n",
       "11  [bipolar, adhd, depression, wrote, cortex, enc...   \n",
       "12  [post, edit, joke, sub, comment, people, reddi...   \n",
       "13  [med, monday, art, vaccine, lose, pack, doctor...   \n",
       "14  [scared, sleep, terrified, wake, going, day, l...   \n",
       "15  [anxiety, list, tripping, technique, forgettin...   \n",
       "16  [vietnam, soul, usa, war, north, south, wish, ...   \n",
       "17  [depressive, episode, downward, get, long, bad...   \n",
       "18  [job, work, late, got, well, unemployment, sur...   \n",
       "19  [dog, service, animal, certified, alpaca, here...   \n",
       "20  [birthday, favorite, poop, coin, restroom, rus...   \n",
       "\n",
       "                                  Representative_Docs  \n",
       "0   [wish one fucking person loved want know like ...  \n",
       "1   [role reversed know pretty stable medicated ye...  \n",
       "2   [tired right thing still feeling like shit ran...  \n",
       "3   [bipolar med weight gain side effect lamotrigi...  \n",
       "4   [much mine love deleted, made therapist delete...  \n",
       "5   [small cozy room, cozy christmas corner, merry...  \n",
       "6   [good writing craft book middle outlining nove...  \n",
       "7   [hello, hello, always looking reason show pict...  \n",
       "8   [cant keep feeling like anymore rapid cycling ...  \n",
       "9   [bipolar art, love portishead instrumentals st...  \n",
       "10  [breakup thing broke boyfriend year here story...  \n",
       "11                        [bipolar, bipolar, bipolar]  \n",
       "12  [absolutely mortified made post different sub ...  \n",
       "13  [take med, med monday mega thread med related ...  \n",
       "14  [nightmare week really messed adrenaline rushi...  \n",
       "15  [anxiety want run rampant thankfully topamax j...  \n",
       "16  [trip wiser onetraveler hello wise welcome lon...  \n",
       "17  [depressive episode hard get, depressive episo...  \n",
       "18  [accidentally quit job got great job something...  \n",
       "19  [dog breeding lot popular dog absolutely immor...  \n",
       "20  [favorite show everybody hate love, whats wors...  "
      ]
     },
     "execution_count": 372,
     "metadata": {},
     "output_type": "execute_result"
    }
   ],
   "source": [
    "topics, xTopics = topic_model.fit_transform(docs)\n",
    "print(xTopics[0])\n",
    "topic_model.get_topic_info()"
   ]
  },
  {
   "cell_type": "markdown",
   "id": "2716418d",
   "metadata": {
    "tags": []
   },
   "source": [
    "## Label Smoothing"
   ]
  },
  {
   "cell_type": "code",
   "execution_count": 373,
   "id": "a113e912",
   "metadata": {},
   "outputs": [
    {
     "name": "stdout",
     "output_type": "stream",
     "text": [
      "One Hot: tensor([0., 1., 0.]) , Smoothed: tensor([0.0500, 0.9500, 0.0500])\n"
     ]
    }
   ],
   "source": [
    "epsilon = 0.05\n",
    "skew = 0.\n",
    "yLabelsSmoothed = [\n",
    "    (onehot_labels - epsilon).where(onehot_labels >= 0.5, onehot_labels + epsilon) + skew\n",
    "    for onehot_labels in yLabels\n",
    "]\n",
    "\n",
    "print(\"One Hot:\", yLabels[0], \", Smoothed:\",yLabelsSmoothed[0])"
   ]
  },
  {
   "cell_type": "markdown",
   "id": "95d0a1c5",
   "metadata": {
    "tags": []
   },
   "source": [
    "# Training & Evaluation"
   ]
  },
  {
   "cell_type": "markdown",
   "id": "91b201dd",
   "metadata": {
    "tags": []
   },
   "source": [
    "## Data"
   ]
  },
  {
   "cell_type": "code",
   "execution_count": 374,
   "id": "eddfef08-4838-4229-9d14-7b4600d071ac",
   "metadata": {},
   "outputs": [],
   "source": [
    "emb_scaler = StandardScaler()\n",
    "topic_scaler = StandardScaler()\n",
    "xnpEmbeddings = [x_.cpu().numpy()for x_ in xEmbeddings]\n",
    "# xnpEmbeddings = xEmbeddings"
   ]
  },
  {
   "cell_type": "code",
   "execution_count": 375,
   "id": "89acec51",
   "metadata": {},
   "outputs": [
    {
     "name": "stdout",
     "output_type": "stream",
     "text": [
      "(384,)\n"
     ]
    }
   ],
   "source": [
    "trainval_splitidx = int(len(xEmbeddings)*0.85)\n",
    "# train_x = [sample[0].to_dense().squeeze() for sample in train_data] # when loading tfidf embeddings\n",
    "# val_x = [sample[0].to_dense().squeeze() for sample in val_data]\n",
    "print(xnpEmbeddings[0].shape)\n",
    "xTrainEmbeddingsScaled = emb_scaler.fit_transform(xnpEmbeddings[:trainval_splitidx])\n",
    "xValEmbeddingsScaled = emb_scaler.transform(xnpEmbeddings[trainval_splitidx:])\n",
    "xTrainTopicsScaled = topic_scaler.fit_transform(xTopics[:trainval_splitidx])\n",
    "xValTopicsScaled = topic_scaler.transform(xTopics[trainval_splitidx:])\n",
    "\n",
    "yTrain = [label.numpy() for label in yLabelsSmoothed[:trainval_splitidx]]\n",
    "yTrainByTask = [ [(label[task] >= 0.5).astype(np.int32) for label in yTrain] for task in range(3) ] # turn back to one-hot\n",
    "yVal = [label.numpy() for label in yLabelsSmoothed[trainval_splitidx:]]\n",
    "yValByTask = [ [(label[task] >= 0.5).astype(np.int32) for label in yVal] for task in range(3) ]"
   ]
  },
  {
   "cell_type": "markdown",
   "id": "11f236a4",
   "metadata": {
    "tags": []
   },
   "source": [
    "## Comparison Models"
   ]
  },
  {
   "cell_type": "markdown",
   "id": "b66b385b",
   "metadata": {
    "tags": []
   },
   "source": [
    "### Non-backprop"
   ]
  },
  {
   "cell_type": "markdown",
   "id": "dca75fa2",
   "metadata": {
    "tags": []
   },
   "source": [
    "#### Models"
   ]
  },
  {
   "cell_type": "code",
   "execution_count": 376,
   "id": "73e3fc09",
   "metadata": {},
   "outputs": [],
   "source": [
    "logreg, svm, knn, rdmforest = [],[],[],[]\n",
    "for task in range(3):\n",
    "    logreg.append(sklearn.linear_model.LogisticRegression(C=0.01, max_iter=1000))\n",
    "    svm.append(sklearn.svm.SVC(C=1, kernel=\"rbf\"))\n",
    "    knn.append(sklearn.neighbors.KNeighborsClassifier(n_neighbors=5))\n",
    "    rdmforest.append(sklearn.ensemble.RandomForestClassifier(n_estimators=20))"
   ]
  },
  {
   "cell_type": "markdown",
   "id": "aad7a22d",
   "metadata": {
    "tags": []
   },
   "source": [
    "#### Training and Evaluation"
   ]
  },
  {
   "cell_type": "code",
   "execution_count": 377,
   "id": "8d085b27",
   "metadata": {},
   "outputs": [],
   "source": [
    "for task in range(3):\n",
    "    traintask_y = yTrainByTask[task]\n",
    "    logreg[task].fit(np.concatenate((xTrainEmbeddingsScaled, xTrainTopicsScaled), axis=1), traintask_y)\n",
    "    knn[task].fit(np.concatenate((xTrainEmbeddingsScaled, xTrainTopicsScaled), axis=1), traintask_y)\n",
    "    svm[task].fit(np.concatenate((xTrainEmbeddingsScaled, xTrainTopicsScaled), axis=1), traintask_y)\n",
    "    rdmforest[task].fit(np.concatenate((xTrainEmbeddingsScaled, xTrainTopicsScaled), axis=1), traintask_y)\n",
    "    # logreg[task].fit(xTrainEmbeddingsScaled, traintask_y)\n",
    "    # knn[task].fit(xTrainEmbeddingsScaled, traintask_y)\n",
    "    # svm[task].fit(xTrainEmbeddingsScaled, traintask_y)\n",
    "    # rdmforest[task].fit(xTrainEmbeddingsScaled, traintask_y)"
   ]
  },
  {
   "cell_type": "code",
   "execution_count": 378,
   "id": "10489e5c",
   "metadata": {},
   "outputs": [
    {
     "name": "stdout",
     "output_type": "stream",
     "text": [
      "--------------------Logistic Regression---------------------\n",
      "Average Acc: 0.8705035971223021\n",
      "Average Macro Average F1 Score: 0.8534396982519832\n",
      "Average Micro Average F1 Score: 0.870593377914623\n",
      "----------------------------KNN-----------------------------\n",
      "Average Acc: 0.8201438848920862\n",
      "Average Macro Average F1 Score: 0.795481365249036\n",
      "Average Micro Average F1 Score: 0.8191553650556451\n",
      "-----------------------Random Forest------------------------\n",
      "Average Acc: 0.7997601918465227\n",
      "Average Macro Average F1 Score: 0.7539863319846147\n",
      "Average Micro Average F1 Score: 0.7908597785761358\n",
      "----------------------------SVM-----------------------------\n",
      "Average Acc: 0.8633093525179856\n",
      "Average Macro Average F1 Score: 0.8465305997974614\n",
      "Average Micro Average F1 Score: 0.8637699069305422\n"
     ]
    }
   ],
   "source": [
    "for model, name in zip([logreg, knn, rdmforest, svm], [\"Logistic Regression\",\"KNN\",\"Random Forest\",\"SVM\"]):\n",
    "    print(f\"{name:-^60}\")\n",
    "    macro_avg2, acc, micro_avg2 = 0,0,0\n",
    "    input_ = np.concatenate((xValEmbeddingsScaled, xValTopicsScaled), axis=1)\n",
    "    # input_ = xValEmbeddingsScaled\n",
    "    # print(\"Task 0: Anxiety\")\n",
    "    report0 = classification_report(yValByTask[0], model[0].predict(input_).reshape(-1,1), digits=4, target_names=[\"Anxiety\", \"Null\"], output_dict=True)\n",
    "    acc += report0['accuracy']\n",
    "    macro_avg2 += report0['macro avg']['f1-score']\n",
    "    micro_avg2 += report0['weighted avg']['f1-score']\n",
    "    # print(\"Task 1: Bipolar\")\n",
    "    report1 = classification_report(yValByTask[1], model[1].predict(input_).reshape(-1,1), digits=4, target_names=[\"Bipolar\", \"Null\"], output_dict=True)\n",
    "    acc += report1['accuracy']\n",
    "    macro_avg2 += report1['macro avg']['f1-score']\n",
    "    micro_avg2 += report1['weighted avg']['f1-score']\n",
    "    # print(\"Task 2: Depression\")\n",
    "    report2 = classification_report(yValByTask[2], model[2].predict(input_).reshape(-1,1), digits=4, target_names=[\"Depression\", \"Null\"], output_dict=True)\n",
    "    acc += report2['accuracy']\n",
    "    macro_avg2 += report2['macro avg']['f1-score']\n",
    "    micro_avg2 += report2['weighted avg']['f1-score']\n",
    "\n",
    "    print(\"Average Acc:\", acc / 3)\n",
    "    print(\"Average Macro Average F1 Score:\", macro_avg2 / 3)\n",
    "    print(\"Average Micro Average F1 Score:\", micro_avg2 / 3)\n",
    "    # print(report0)\n",
    "    # print(report1)\n",
    "    # print(report2)"
   ]
  },
  {
   "cell_type": "markdown",
   "id": "8f921a85",
   "metadata": {
    "jp-MarkdownHeadingCollapsed": true,
    "tags": []
   },
   "source": [
    "### Backprop"
   ]
  },
  {
   "cell_type": "markdown",
   "id": "142a5101",
   "metadata": {
    "jp-MarkdownHeadingCollapsed": true,
    "tags": []
   },
   "source": [
    "#### Separate Model"
   ]
  },
  {
   "cell_type": "code",
   "execution_count": 568,
   "id": "063891d2",
   "metadata": {},
   "outputs": [
    {
     "name": "stdout",
     "output_type": "stream",
     "text": [
      "Begining Training of Separate MLPs...\n"
     ]
    },
    {
     "name": "stderr",
     "output_type": "stream",
     "text": [
      "Training; Loss: 0.361 Val Acc: 85.70%: 100%|█████████████████████████████████████████| 50/50 [00:02<00:00, 17.09it/s]\n"
     ]
    },
    {
     "name": "stdout",
     "output_type": "stream",
     "text": [
      "Training completed in 0m 3s\n",
      "Final Training Accuracy: 96.05%\n",
      "Final Validation Accuracy: 85.70%\n"
     ]
    },
    {
     "data": {
      "image/png": "[encoded data removed]",
      "text/plain": [
       "<Figure size 432x288 with 1 Axes>"
      ]
     },
     "metadata": {
      "needs_background": "light"
     },
     "output_type": "display_data"
    },
    {
     "data": {
      "image/png": "[encoded data removed]",
      "text/plain": [
       "<Figure size 432x288 with 1 Axes>"
      ]
     },
     "metadata": {
      "needs_background": "light"
     },
     "output_type": "display_data"
    },
    {
     "name": "stdout",
     "output_type": "stream",
     "text": [
      "0.8569760653823701 0.7780501234483784 0.8509314787980468\n"
     ]
    }
   ],
   "source": [
    "class SeparateMLP(nn.Module):\n",
    "    def __init__(self):\n",
    "        super().__init__()\n",
    "        self.separate_mlps = nn.ModuleList([nn.Sequential(\n",
    "            nn.Linear(384, 16), nn.ReLU(), nn.Dropout(0.5),\n",
    "            nn.Linear(16, 1), #nn.Sigmoid(),\n",
    "        ) for _ in range(3)])\n",
    "        self.bceloss = nn.BCEWithLogitsLoss(weight=torch.Tensor([1,1,1]))\n",
    "        \n",
    "    def forward(self, x):\n",
    "        return torch.stack([mlp(x).squeeze() for mlp in self.separate_mlps], dim=1)\n",
    "    \n",
    "    def loss(self, truth, pred):\n",
    "        l = torch.zeros(1).to(device)\n",
    "        l += self.bceloss(truth, pred)\n",
    "        #l += self.separate_loss() * 0.00\n",
    "        return l\n",
    "    \n",
    "    def separate_loss(self):\n",
    "        l = torch.zeros(1).to(device)\n",
    "        for i1, i2 in itertools.combinations(range(3), 2):\n",
    "            l += MultiTaskModule.L2_distance(self.separate_mlps[i1], self.separate_mlps[i2])\n",
    "        return l\n",
    "\n",
    "if True and __name__==\"__main__\":    \n",
    "    macro_avg2 = 0\n",
    "    train_data = ListDataset([ \n",
    "        # (torch.cat((torch.from_numpy(emb).float(),torch.from_numpy(topic).float())), label) \n",
    "        (torch.from_numpy(emb).float(), label) \n",
    "        for emb,topic,label in zip(xTrainEmbeddingsScaled, xTrainTopicsScaled, yTrain) \n",
    "    ])\n",
    "    val_data = ListDataset([ \n",
    "        # (torch.cat((torch.from_numpy(emb).float(), torch.from_numpy(topic).float())), label) \n",
    "        (torch.from_numpy(emb).float(), label) \n",
    "        for emb,topic,label in zip(xValEmbeddingsScaled, xValTopicsScaled, yVal) \n",
    "    ])\n",
    "    model = SeparateMLP()\n",
    "    #summary(model)\n",
    "    optimizer = torch.optim.Adam(model.parameters(), lr=1e-3, weight_decay=3e-3)\n",
    "    #optimizer = torch.optim.SGD(model.parameters(), lr=1)\n",
    "    criterion = model.loss\n",
    "    scheduler = torch.optim.lr_scheduler.OneCycleLR(optimizer, max_lr=1e-2, epochs=50, steps_per_epoch=1)\n",
    "    #scheduler = torch.optim.lr_scheduler.MultiStepLR(optimizer, milestones=(2000,3000,4000), gamma=0.2)\n",
    "    model = train(\n",
    "        model_name = f\"Separate MLPs\",\n",
    "        model = model, \n",
    "        train_data = train_data,\n",
    "        val_data = val_data,\n",
    "        criterion = criterion,\n",
    "        optimizer = optimizer, \n",
    "        scheduler = scheduler,\n",
    "        num_epochs = 50,\n",
    "        batch_size = 10000,\n",
    "        device = device,\n",
    "        verbose = False, # False is still verbose, just less\n",
    "    )\n",
    "\n",
    "    model.cpu()\n",
    "    x_val = torch.stack([ x for x,y in val_data ] )\n",
    "    y_val = (torch.Tensor([ y for x,y in val_data ]) >= 0.5).int()\n",
    "    model_preds = (torch.sigmoid(model(x_val)) >= 0.5).int()\n",
    "    report_acc, macro_avg2, micro_avg2 = 0,0,0\n",
    "    for t in range(3):\n",
    "        report = classification_report(y_val[:,t], model_preds[:,t], output_dict=True)\n",
    "        report_acc += report['accuracy']\n",
    "        macro_avg2 += report['macro avg']['f1-score']\n",
    "        micro_avg2 += report['weighted avg']['f1-score']\n",
    "    print(report_acc/3, macro_avg2/3, micro_avg2/3)"
   ]
  },
  {
   "cell_type": "markdown",
   "id": "82f68b1b",
   "metadata": {
    "jp-MarkdownHeadingCollapsed": true,
    "tags": []
   },
   "source": [
    "#### Merged Model"
   ]
  },
  {
   "cell_type": "code",
   "execution_count": 530,
   "id": "f1cb17e6",
   "metadata": {},
   "outputs": [
    {
     "name": "stdout",
     "output_type": "stream",
     "text": [
      "Begining Training of Merged MLP...\n"
     ]
    },
    {
     "name": "stderr",
     "output_type": "stream",
     "text": [
      "Training; Loss: 0.473 Val Acc: 84.88%: 100%|█████████████████████████████████████████| 50/50 [00:02<00:00, 19.50it/s]\n"
     ]
    },
    {
     "name": "stdout",
     "output_type": "stream",
     "text": [
      "Training completed in 0m 3s\n",
      "Final Training Accuracy: 95.61%\n",
      "Final Validation Accuracy: 84.88%\n"
     ]
    },
    {
     "data": {
      "image/png": "[encoded data removed]",
      "text/plain": [
       "<Figure size 432x288 with 1 Axes>"
      ]
     },
     "metadata": {
      "needs_background": "light"
     },
     "output_type": "display_data"
    },
    {
     "data": {
      "image/png": "[encoded data removed]",
      "text/plain": [
       "<Figure size 432x288 with 1 Axes>"
      ]
     },
     "metadata": {
      "needs_background": "light"
     },
     "output_type": "display_data"
    },
    {
     "name": "stdout",
     "output_type": "stream",
     "text": [
      "0.8488032691185055 0.756717878200586 0.8410149118989532\n"
     ]
    }
   ],
   "source": [
    "if True and __name__==\"__main__\":\n",
    "    merged_mlp = nn.Sequential(\n",
    "        nn.Linear(384, 48), nn.ReLU(), nn.Dropout(0.5),\n",
    "        nn.Linear(48, 3), #nn.Sigmoid(),\n",
    "    )\n",
    "    macro_avg2 = 0\n",
    "    train_data = ListDataset([ \n",
    "        # (torch.cat((torch.from_numpy(emb).float(),torch.from_numpy(topic).float())), label) \n",
    "        (torch.from_numpy(emb).float(), label) \n",
    "        for emb,topic,label in zip(xTrainEmbeddingsScaled, xTrainTopicsScaled, yTrain) \n",
    "    ])\n",
    "    val_data = ListDataset([ \n",
    "        # (torch.cat((torch.from_numpy(emb).float(),torch.from_numpy(topic).float())), label) \n",
    "        (torch.from_numpy(emb).float(), label) \n",
    "        for emb,topic,label in zip(xValEmbeddingsScaled, xValTopicsScaled, yVal) \n",
    "    ])\n",
    "    model = merged_mlp\n",
    "    #summary(model)\n",
    "    optimizer = torch.optim.Adam(model.parameters(), lr=1e-3, weight_decay=1e-2)\n",
    "    #optimizer = torch.optim.SGD(model.parameters(), lr=1)\n",
    "    criterion = nn.BCEWithLogitsLoss(weight=torch.Tensor([2,0.3,2]).to(device))\n",
    "    scheduler = torch.optim.lr_scheduler.OneCycleLR(optimizer, max_lr=3e-2, epochs=50, steps_per_epoch=1)\n",
    "    #scheduler = torch.optim.lr_scheduler.MultiStepLR(optimizer, milestones=(2000,3000,4000), gamma=0.2)\n",
    "    model = train(\n",
    "        model_name = f\"Merged MLP\",\n",
    "        model = model, \n",
    "        train_data = train_data,\n",
    "        val_data = val_data,\n",
    "        criterion = criterion,\n",
    "        optimizer = optimizer, \n",
    "        scheduler = scheduler,\n",
    "        num_epochs = 50,\n",
    "        batch_size = 1024,\n",
    "        device = device,\n",
    "        verbose = False, # False is still verbose, just less\n",
    "    )\n",
    "\n",
    "    model.cpu()\n",
    "    x_val = torch.stack([ x for x,y in val_data ] )\n",
    "    y_val = (torch.Tensor([ y for x,y in val_data ]) >= 0.5).int()\n",
    "    model_preds = (torch.sigmoid(model(x_val)) >= 0.5).int()\n",
    "    report_acc, macro_avg2, micro_avg2 = 0,0,0\n",
    "    for t in range(3):\n",
    "        report = classification_report(y_val[:,t], model_preds[:,t], output_dict=True)\n",
    "        report_acc += report['accuracy']\n",
    "        macro_avg2 += report['macro avg']['f1-score']\n",
    "        micro_avg2 += report['weighted avg']['f1-score']\n",
    "    print(report_acc/3, macro_avg2/3, micro_avg2/3)"
   ]
  },
  {
   "cell_type": "markdown",
   "id": "2eb9a34a",
   "metadata": {
    "jp-MarkdownHeadingCollapsed": true,
    "tags": []
   },
   "source": [
    "#### Multi-task Model"
   ]
  },
  {
   "cell_type": "code",
   "execution_count": 28,
   "id": "42accc8e",
   "metadata": {},
   "outputs": [],
   "source": [
    "class MultiTaskMLP(nn.Module):\n",
    "    def __init__(self, n_tasks=3):\n",
    "        super().__init__()\n",
    "        self.shared = nn.Sequential(\n",
    "            nn.Linear(384, 24), nn.ReLU(), nn.Dropout(0.5),\n",
    "           # nn.Linear(32, 16), nn.ReLU(), nn.Dropout(0.5),\n",
    "        )\n",
    "        self.task_modules = nn.ModuleList([\n",
    "            nn.Sequential(\n",
    "                nn.Linear(39, 16), nn.ReLU(), nn.Dropout(0.5),\n",
    "                nn.Linear(16, 1), #nn.Sigmoid(),\n",
    "            ) \n",
    "            for task in range(n_tasks)\n",
    "        ])\n",
    "        self.fc1 = nn.Linear(20, 15)\n",
    "        self.bceloss = nn.BCEWithLogitsLoss(weight=torch.Tensor([2,0.3,2]))\n",
    "        self.joint_loss = FocalLoss(gamma=2)\n",
    "    \n",
    "    def forward(self, x, topic):\n",
    "        out = self.shared(x)\n",
    "        topic = nn.functional.relu(self.fc1(topic))\n",
    "        out = torch.cat([out, topic], dim=1)\n",
    "        #print(out.shape)\n",
    "        out = torch.stack([task_module(out).squeeze() for task_module in self.task_modules], dim=1)\n",
    "        return out\n",
    "    \n",
    "    def loss(self, truth, pred):\n",
    "        l = torch.zeros(1).to(device)\n",
    "        l += self.bceloss(truth, pred)\n",
    "        l += self.joint_loss(pred, truth) * 1\n",
    "        return l"
   ]
  },
  {
   "cell_type": "markdown",
   "id": "14156875",
   "metadata": {},
   "source": [
    "##### Training and Evaluation"
   ]
  },
  {
   "cell_type": "code",
   "execution_count": 32,
   "id": "abc7b837",
   "metadata": {},
   "outputs": [
    {
     "name": "stdout",
     "output_type": "stream",
     "text": [
      "----------------------------------------------------------------\n",
      "        Layer (type)               Output Shape         Param #\n",
      "================================================================\n",
      "            Linear-1                   [-1, 24]           9,240\n",
      "              ReLU-2                   [-1, 24]               0\n",
      "           Dropout-3                   [-1, 24]               0\n",
      "            Linear-4                   [-1, 15]             315\n",
      "            Linear-5                   [-1, 16]             640\n",
      "              ReLU-6                   [-1, 16]               0\n",
      "           Dropout-7                   [-1, 16]               0\n",
      "            Linear-8                    [-1, 1]              17\n",
      "            Linear-9                   [-1, 16]             640\n",
      "             ReLU-10                   [-1, 16]               0\n",
      "          Dropout-11                   [-1, 16]               0\n",
      "           Linear-12                    [-1, 1]              17\n",
      "           Linear-13                   [-1, 16]             640\n",
      "             ReLU-14                   [-1, 16]               0\n",
      "          Dropout-15                   [-1, 16]               0\n",
      "           Linear-16                    [-1, 1]              17\n",
      "================================================================\n",
      "Total params: 11,526\n",
      "Trainable params: 11,526\n",
      "Non-trainable params: 0\n",
      "----------------------------------------------------------------\n",
      "Input size (MB): 0.03\n",
      "Forward/backward pass size (MB): 0.00\n",
      "Params size (MB): 0.04\n",
      "Estimated Total Size (MB): 0.08\n",
      "----------------------------------------------------------------\n",
      "Begining Training of Multi-task MLP...\n"
     ]
    },
    {
     "name": "stderr",
     "output_type": "stream",
     "text": [
      "Training; Loss: 0.560 Val Acc: 81.29% F1-Macro: 79.09%: 100%|█████████████████████████| 200/200 [00:05<00:00, 35.63it/s]\n"
     ]
    },
    {
     "name": "stdout",
     "output_type": "stream",
     "text": [
      "Final Training Accuracy:\t 96.28%\n",
      "Final Validation Accuracy:\t 81.29%\n",
      "Final Unweighted Avg F1-score:\t 79.09%\n",
      "Final Weighted Avg F1-score:\t 81.11%\n"
     ]
    },
    {
     "data": {
      "image/png": "[encoded data removed]",
      "text/plain": [
       "<Figure size 432x288 with 1 Axes>"
      ]
     },
     "metadata": {
      "needs_background": "light"
     },
     "output_type": "display_data"
    },
    {
     "data": {
      "image/png": "[encoded data removed]",
      "text/plain": [
       "<Figure size 432x288 with 1 Axes>"
      ]
     },
     "metadata": {
      "needs_background": "light"
     },
     "output_type": "display_data"
    }
   ],
   "source": [
    "if True and __name__==\"__main__\":\n",
    "    # _data = [ (torch.from_numpy(emb).float(), label) for emb,label in zip(xEmbeddingsScaled, yLabelsSmoothed) ]\n",
    "    train_data = ListDataset([ ((torch.from_numpy(emb).float(), topic), label) for emb,topic,label in zip(xTrainEmbeddingsScaled, xTrainTopicsScaled, yTrain) ])\n",
    "    val_data = ListDataset([ ((torch.from_numpy(emb).float(), topic), label) for emb,topic,label in zip(xValEmbeddingsScaled, xValTopicsScaled, yVal) ])\n",
    "    model = MultiTaskMLP()\n",
    "    summary(model, [(384,), (20,)], device='cpu')\n",
    "    optimizer = torch.optim.Adam(model.parameters(), lr=3e-5, weight_decay=2e-2)\n",
    "    #optimizer = torch.optim.SGD(model.parameters(), lr=1)\n",
    "    criterion = model.loss\n",
    "    scheduler = torch.optim.lr_scheduler.OneCycleLR(optimizer, max_lr=1e-1, epochs=200, steps_per_epoch=1)\n",
    "    #scheduler = torch.optim.lr_scheduler.MultiStepLR(optimizer, milestones=(100, 150, 300), gamma=0.5)\n",
    "    model = train_topicmtm(\n",
    "        model_name = f\"Multi-task MLP\",\n",
    "        model = model, \n",
    "        train_data = train_data,\n",
    "        val_data = val_data,\n",
    "        criterion = criterion,\n",
    "        optimizer = optimizer, \n",
    "        #scheduler = scheduler,\n",
    "        num_epochs = 200,\n",
    "        batch_size = 1024,\n",
    "        device = device,\n",
    "        verbose = False, # False is still verbose, just less\n",
    "    )\n",
    "\n",
    "    # model.cpu()\n",
    "    # x_val = torch.stack([ x for x,y in val_data ] )\n",
    "    # y_val = torch.Tensor([ y for x,y in val_data ] )\n",
    "    # macro_avg2 = 0\n",
    "    # report = classification_report((y_val >= 0.5).int(), (torch.sigmoid(model(x_val)) >= 0.5).int(), output_dict=True)\n",
    "    # macro_avg2 += report['macro avg']['f1-score']\n",
    "    # print(macro_avg2)"
   ]
  },
  {
   "cell_type": "markdown",
   "id": "0657d20d",
   "metadata": {
    "jp-MarkdownHeadingCollapsed": true,
    "tags": []
   },
   "source": [
    "## idk"
   ]
  },
  {
   "cell_type": "code",
   "execution_count": 15,
   "id": "77b0ad1e",
   "metadata": {},
   "outputs": [
    {
     "ename": "NameError",
     "evalue": "name 'iterative_train_test_split' is not defined",
     "output_type": "error",
     "traceback": [
      "\u001b[1;31m---------------------------------------------------------------------------\u001b[0m",
      "\u001b[1;31mNameError\u001b[0m                                 Traceback (most recent call last)",
      "Cell \u001b[1;32mIn[15], line 3\u001b[0m\n\u001b[0;32m      1\u001b[0m X \u001b[38;5;241m=\u001b[39m np\u001b[38;5;241m.\u001b[39marray(xnpEmbeddings)\n\u001b[0;32m      2\u001b[0m y \u001b[38;5;241m=\u001b[39m np\u001b[38;5;241m.\u001b[39marray([label\u001b[38;5;241m.\u001b[39mnumpy() \u001b[38;5;28;01mfor\u001b[39;00m label \u001b[38;5;129;01min\u001b[39;00m yLabels])\n\u001b[1;32m----> 3\u001b[0m X_train, y_train, X_test, y_test \u001b[38;5;241m=\u001b[39m iterative_train_test_split(X, y, \u001b[38;5;241m0.2\u001b[39m)\n",
      "\u001b[1;31mNameError\u001b[0m: name 'iterative_train_test_split' is not defined"
     ]
    }
   ],
   "source": [
    "X = np.array(xnpEmbeddings)\n",
    "y = np.array([label.numpy() for label in yLabels])\n",
    "X_train, y_train, X_test, y_test = iterative_train_test_split(X, y, 0.2)"
   ]
  },
  {
   "cell_type": "code",
   "execution_count": 147,
   "id": "85d96d70",
   "metadata": {},
   "outputs": [
    {
     "name": "stdout",
     "output_type": "stream",
     "text": [
      "count of anxiety, bipolar, depression, none: 89 119 389 168\n",
      "count of anxiety, bipolar, depression, none: 358 474 1555 683\n"
     ]
    }
   ],
   "source": [
    "# from collections import Counter\n",
    "# from skmultilearn.model_selection.measures import get_combination_wise_output_matrix\n",
    "# pd.DataFrame({\n",
    "#     'train': Counter(str(combination) for row in get_combination_wise_output_matrix(y_train, order=3) for combination in row),\n",
    "#     'test' : Counter(str(combination) for row in get_combination_wise_output_matrix(y_test, order=3) for combination in row)\n",
    "# }).T.fillna(0.0\n",
    "a, b, d, z = 0,0,0,0\n",
    "for row in y_test:\n",
    "    anx, dep, bip = row[0], row[1], row[2]\n",
    "    if anx == 1: a += 1\n",
    "    if bip == 1: b += 1\n",
    "    if dep == 1: d += 1\n",
    "    if anx==0 and bip == 0 and dep == 0: z += 1\n",
    "print(\"count of anxiety, bipolar, depression, none:\",a,b,d,z)\n",
    "a, b, d, z = 0,0,0,0\n",
    "for row in y_train:\n",
    "    anx, dep, bip = row[0], row[1], row[2]\n",
    "    if anx == 1: a += 1\n",
    "    if bip == 1: b += 1\n",
    "    if dep == 1: d += 1\n",
    "    if anx==0 and bip == 0 and dep == 0: z += 1\n",
    "print(\"count of anxiety, bipolar, depression, none:\",a,b,d,z)"
   ]
  },
  {
   "cell_type": "markdown",
   "id": "df256293",
   "metadata": {
    "tags": []
   },
   "source": [
    "## Main Model"
   ]
  },
  {
   "cell_type": "code",
   "execution_count": null,
   "id": "219e44b3-4896-45a7-95fd-f1888cb0a306",
   "metadata": {},
   "outputs": [],
   "source": [
    "cs = ConvMLP_soft()\n",
    "summary(cs, [ (384,), (10,) ], device='cpu')"
   ]
  },
  {
   "cell_type": "code",
   "execution_count": 352,
   "id": "0a640ace",
   "metadata": {},
   "outputs": [],
   "source": [
    "def Training(train_data, val_data, n_topics=10):\n",
    "    print(n_topics)\n",
    "    loss_params = {\n",
    "        'task_alphas': (3.5,3.5,3.5), # BCEWithLogitsLoss per-task weighting\n",
    "        'joint_beta': 0, # Focal Loss  overall weighting\n",
    "        'focal_gamma': 2, # exponent in Focal Loss\n",
    "        'reg_delta': 2, # soft-sharing regularization weighting\n",
    "        'reg_epsilon': 0.000, # lasso regularization weighting\n",
    "    }\n",
    "    # loss_params = {\n",
    "    #     'task_alphas': (0,0,0), # BCEWithLogitsLoss per-task weighting\n",
    "    #     'joint_beta': 0., # Focal Loss  overall weighting\n",
    "    #     'focal_gamma': 2, # exponent in Focal Loss\n",
    "    #     'reg_delta': 0e-2, # soft-sharing regularization weighting\n",
    "    #     'reg_epsilon': 0.000, # lasso regularization weighting\n",
    "    # }\n",
    "    # for jb in (0, 0.5, 1, 2, 4, 8):\n",
    "    #     loss_params['reg_delta'] = jb\n",
    "    #     print(\"Training with\", jb)\n",
    "    model = ConvMLP_soft(n_tasks=3, n_topics=n_topics, **loss_params)\n",
    "    # model.load_state_dict(torch.load(HOME+\"data/AllBalanced/ConvMLP-soft2.pt\"))\n",
    "    # model.joint_beta = nn.Parameter(torch.zeros(1), requires_grad=False); model.mtmreg_delta = nn.Parameter(torch.zeros(1), requires_grad=False); model.task_loss = nn.BCEWithLogitsLoss(weight=torch.Tensor([0,0,0]))\n",
    "    # model = model.cuda()\n",
    "    optimizer = torch.optim.Adam(model.parameters(), lr=5e-3, weight_decay=3e-2)\n",
    "    criterion = model.calc_loss\n",
    "    scheduler = torch.optim.lr_scheduler.OneCycleLR(optimizer, max_lr=1e-1, epochs=150, steps_per_epoch=1)\n",
    "    # optimizer = torch.optim.Adam(model.parameters(), lr=7e-3, weight_decay=1e-3)\n",
    "    # criterion = model.calc_loss\n",
    "    # scheduler = torch.optim.lr_scheduler.OneCycleLR(optimizer, max_lr=5e-2, epochs=120, steps_per_epoch=1)\n",
    "    model, mets = train_topicmtm(\n",
    "        model_name = str(type(model)),\n",
    "        model = model, \n",
    "        train_data = train_data,\n",
    "        val_data = val_data,\n",
    "        criterion = criterion,\n",
    "        optimizer = optimizer, \n",
    "        scheduler = scheduler,\n",
    "        decay_reg = 1, # was 0.9\n",
    "        num_epochs = 150,\n",
    "        batch_size = 10000,\n",
    "        num_workers = 0,\n",
    "        device = device,\n",
    "        verbose = False, # False is still verbose, just less\n",
    "    )\n",
    "\n",
    "    # loss_params = {\n",
    "    #     'task_alphas': (2.3,2,2.1),\n",
    "    #     'joint_beta': 2,\n",
    "    #     'focal_gamma': 2,\n",
    "    #     'reg_delta': 0.,\n",
    "    #     'reg_epsilon': 0.000,\n",
    "    # }\n",
    "    # model = ConvMLP_MTM(n_tasks=3, n_topics=n_topics, **loss_params)\n",
    "    # optimizer = torch.optim.Adam(model.parameters(), lr=5e-3, weight_decay=3e-2)\n",
    "    # criterion = model.calc_loss\n",
    "    # scheduler = torch.optim.lr_scheduler.OneCycleLR(optimizer, max_lr=1e-2, epochs=80, steps_per_epoch=1)\n",
    "    # #scheduler = torch.optim.lr_scheduler.MultiStepLR(optimizer, milestones=(300,500), gamma=0.1)\n",
    "    # model, mets = train_topicmtm(\n",
    "    #     model_name = str(type(model)),\n",
    "    #     model = model, \n",
    "    #     train_data = train_data,\n",
    "    #     val_data = val_data,\n",
    "    #     criterion = criterion,\n",
    "    #     optimizer = optimizer, \n",
    "    #     scheduler = scheduler,\n",
    "    #     decay_reg = 1,\n",
    "    #     num_epochs = 80,\n",
    "    #     batch_size = 10000,\n",
    "    #     num_workers = 0,\n",
    "    #     device = device,\n",
    "    #     verbose = False, # False is still verbose, just less\n",
    "    # )\n",
    "\n",
    "    return model.state_dict(), mets\n",
    "\n",
    "def KFoldTraining(data: list[tuple], n_folds=5):\n",
    "    start_time = time.perf_counter()\n",
    "    state_dicts = []; trainacc,valacc,f1mac,f1mic = 0,0,0,0\n",
    "    print(\"Training on\", int((1- 1/n_folds)*len(data)), \"samples\")\n",
    "    kf_indices = KFold(n_splits=n_folds, shuffle=True).split(np.arange(len(data)))\n",
    "    for fold_num, (train_idxs, val_idxs) in enumerate(kf_indices):\n",
    "        _=f\"[ FOLD {fold_num+1}/{n_folds} ]\"; print(f\"{_:~^80}\")\n",
    "        \n",
    "        print(\"Creating data...\",end='\\r')\n",
    "        trainEmbeddings = emb_scaler.fit_transform([ data[i][0][0] for i in train_idxs ]); valEmbeddings = emb_scaler.transform([ data[i][0][0] for i in val_idxs ])\n",
    "        _,trainTopics = topic_model.fit_transform([ docs[i] for i in train_idxs]); _,valTopics = topic_model.transform([ docs[i] for i in val_idxs ])\n",
    "        trainLabels = [data[i][1] for i in train_idxs]; valLabels = [data[i][1] for i in val_idxs]\n",
    "        state_dict,metrics = Training(\n",
    "            train_data=ListDataset([ ((emb,top),label) for emb,top,label in zip(trainEmbeddings, trainTopics, trainLabels) ]), \n",
    "            val_data=ListDataset([ ((emb,top),label) for emb,top,label in zip(valEmbeddings, valTopics, valLabels) ]),\n",
    "            n_topics=len(topic_model.get_topic_info())-1,\n",
    "        )\n",
    "        # state_dict,metrics = Training(\n",
    "        #     train_data=ListDataset([ data[i] for i in train_idxs ]), \n",
    "        #     val_data=ListDataset([ data[i] for i in val_idxs ]),\n",
    "        #     n_topics=20,\n",
    "        # )\n",
    "        state_dicts.append(copy.deepcopy(state_dict))\n",
    "        trainacc += metrics[0]; valacc += metrics[1]; f1mac += metrics[2]; f1mic += metrics[3]\n",
    "    print(f\"Completed Fold Training in {(time.perf_counter()-start_time):.2f}s\")\n",
    "    return state_dicts, (trainacc/n_folds, valacc/n_folds, f1mac/n_folds, f1mic/n_folds)\n",
    "\n",
    "def FoldlessTraining(data: list[tuple], trainvalsplit=0.8):\n",
    "    splitIdx = int(len(data) * trainvalsplit); print(\"Training on\", splitIdx, \"samples\")\n",
    "    state_dict,metrics = Training(\n",
    "        train_data=ListDataset(data[:splitIdx]), \n",
    "        val_data=ListDataset(data[splitIdx:]),\n",
    "        n_topics=20,\n",
    "    )\n",
    "    return state_dict, metrics"
   ]
  },
  {
   "cell_type": "markdown",
   "id": "15629718",
   "metadata": {
    "tags": []
   },
   "source": [
    "## Execution"
   ]
  },
  {
   "cell_type": "code",
   "execution_count": 389,
   "id": "74cd8342",
   "metadata": {},
   "outputs": [
    {
     "name": "stdout",
     "output_type": "stream",
     "text": [
      "Training on 1477 samples\n",
      "~~~~~~~~~~~~~~~~~~~~~~~~~~~~~~~~~~[ FOLD 1/5 ]~~~~~~~~~~~~~~~~~~~~~~~~~~~~~~~~~~\n",
      "20eating data...\n",
      "Begining Training of <class '__main__.ConvMLP_soft'>...\n"
     ]
    },
    {
     "name": "stderr",
     "output_type": "stream",
     "text": [
      "Training; Loss: 1.583 Val Acc: 83.24% F1-Macro: 81.08%: 100%|█████████████████████████| 150/150 [00:11<00:00, 13.53it/s]\n"
     ]
    },
    {
     "name": "stdout",
     "output_type": "stream",
     "text": [
      "Final Training Accuracy:\t 89.91%\n",
      "Final Validation Accuracy:\t 83.24%\n",
      "Final Unweighted Avg F1-score:\t 81.08%\n",
      "Final Weighted Avg F1-score:\t 83.16%\n"
     ]
    },
    {
     "data": {
      "image/png": "[encoded data removed]",
      "text/plain": [
       "<Figure size 432x288 with 1 Axes>"
      ]
     },
     "metadata": {
      "needs_background": "light"
     },
     "output_type": "display_data"
    },
    {
     "data": {
      "image/png": "[encoded data removed]",
      "text/plain": [
       "<Figure size 432x288 with 1 Axes>"
      ]
     },
     "metadata": {
      "needs_background": "light"
     },
     "output_type": "display_data"
    },
    {
     "name": "stdout",
     "output_type": "stream",
     "text": [
      "~~~~~~~~~~~~~~~~~~~~~~~~~~~~~~~~~~[ FOLD 2/5 ]~~~~~~~~~~~~~~~~~~~~~~~~~~~~~~~~~~\n",
      "20eating data...\n",
      "Begining Training of <class '__main__.ConvMLP_soft'>...\n"
     ]
    },
    {
     "name": "stderr",
     "output_type": "stream",
     "text": [
      "Training; Loss: 1.532 Val Acc: 84.32% F1-Macro: 81.66%: 100%|█████████████████████████| 150/150 [00:11<00:00, 13.35it/s]\n"
     ]
    },
    {
     "name": "stdout",
     "output_type": "stream",
     "text": [
      "Final Training Accuracy:\t 90.39%\n",
      "Final Validation Accuracy:\t 84.32%\n",
      "Final Unweighted Avg F1-score:\t 81.66%\n",
      "Final Weighted Avg F1-score:\t 84.27%\n"
     ]
    },
    {
     "data": {
      "image/png": "[encoded data removed]",
      "text/plain": [
       "<Figure size 432x288 with 1 Axes>"
      ]
     },
     "metadata": {
      "needs_background": "light"
     },
     "output_type": "display_data"
    },
    {
     "data": {
      "image/png": "[encoded data removed]",
      "text/plain": [
       "<Figure size 432x288 with 1 Axes>"
      ]
     },
     "metadata": {
      "needs_background": "light"
     },
     "output_type": "display_data"
    },
    {
     "name": "stdout",
     "output_type": "stream",
     "text": [
      "~~~~~~~~~~~~~~~~~~~~~~~~~~~~~~~~~~[ FOLD 3/5 ]~~~~~~~~~~~~~~~~~~~~~~~~~~~~~~~~~~\n",
      "20eating data...\n",
      "Begining Training of <class '__main__.ConvMLP_soft'>...\n"
     ]
    },
    {
     "name": "stderr",
     "output_type": "stream",
     "text": [
      "Training; Loss: 1.537 Val Acc: 86.27% F1-Macro: 84.16%: 100%|█████████████████████████| 150/150 [00:11<00:00, 13.08it/s]\n"
     ]
    },
    {
     "name": "stdout",
     "output_type": "stream",
     "text": [
      "Final Training Accuracy:\t 90.39%\n",
      "Final Validation Accuracy:\t 86.27%\n",
      "Final Unweighted Avg F1-score:\t 84.16%\n",
      "Final Weighted Avg F1-score:\t 86.16%\n"
     ]
    },
    {
     "data": {
      "image/png": "[encoded data removed]",
      "text/plain": [
       "<Figure size 432x288 with 1 Axes>"
      ]
     },
     "metadata": {
      "needs_background": "light"
     },
     "output_type": "display_data"
    },
    {
     "data": {
      "image/png": "[encoded data removed]",
      "text/plain": [
       "<Figure size 432x288 with 1 Axes>"
      ]
     },
     "metadata": {
      "needs_background": "light"
     },
     "output_type": "display_data"
    },
    {
     "name": "stdout",
     "output_type": "stream",
     "text": [
      "~~~~~~~~~~~~~~~~~~~~~~~~~~~~~~~~~~[ FOLD 4/5 ]~~~~~~~~~~~~~~~~~~~~~~~~~~~~~~~~~~\n",
      "13eating data...\n",
      "Begining Training of <class '__main__.ConvMLP_soft'>...\n"
     ]
    },
    {
     "name": "stderr",
     "output_type": "stream",
     "text": [
      "Training; Loss: 1.558 Val Acc: 82.66% F1-Macro: 80.09%: 100%|█████████████████████████| 150/150 [00:11<00:00, 13.56it/s]\n"
     ]
    },
    {
     "name": "stdout",
     "output_type": "stream",
     "text": [
      "Final Training Accuracy:\t 90.44%\n",
      "Final Validation Accuracy:\t 82.66%\n",
      "Final Unweighted Avg F1-score:\t 80.09%\n",
      "Final Weighted Avg F1-score:\t 82.27%\n"
     ]
    },
    {
     "data": {
      "image/png": "[encoded data removed]",
      "text/plain": [
       "<Figure size 432x288 with 1 Axes>"
      ]
     },
     "metadata": {
      "needs_background": "light"
     },
     "output_type": "display_data"
    },
    {
     "data": {
      "image/png": "[encoded data removed]",
      "text/plain": [
       "<Figure size 432x288 with 1 Axes>"
      ]
     },
     "metadata": {
      "needs_background": "light"
     },
     "output_type": "display_data"
    },
    {
     "name": "stdout",
     "output_type": "stream",
     "text": [
      "~~~~~~~~~~~~~~~~~~~~~~~~~~~~~~~~~~[ FOLD 5/5 ]~~~~~~~~~~~~~~~~~~~~~~~~~~~~~~~~~~\n",
      "20eating data...\n",
      "Begining Training of <class '__main__.ConvMLP_soft'>...\n"
     ]
    },
    {
     "name": "stderr",
     "output_type": "stream",
     "text": [
      "Training; Loss: 1.495 Val Acc: 84.73% F1-Macro: 83.06%: 100%|█████████████████████████| 150/150 [00:11<00:00, 13.20it/s]\n"
     ]
    },
    {
     "name": "stdout",
     "output_type": "stream",
     "text": [
      "Final Training Accuracy:\t 90.87%\n",
      "Final Validation Accuracy:\t 84.73%\n",
      "Final Unweighted Avg F1-score:\t 83.06%\n",
      "Final Weighted Avg F1-score:\t 84.67%\n"
     ]
    },
    {
     "data": {
      "image/png": "[encoded data removed]",
      "text/plain": [
       "<Figure size 432x288 with 1 Axes>"
      ]
     },
     "metadata": {
      "needs_background": "light"
     },
     "output_type": "display_data"
    },
    {
     "data": {
      "image/png": "[encoded data removed]",
      "text/plain": [
       "<Figure size 432x288 with 1 Axes>"
      ]
     },
     "metadata": {
      "needs_background": "light"
     },
     "output_type": "display_data"
    },
    {
     "name": "stdout",
     "output_type": "stream",
     "text": [
      "Completed Fold Training in 113.88s\n",
      "(FINAL RESULTS)\n",
      "Train Acc:\t90.40%\n",
      "Val Acc:\t84.25%\n",
      "Macro-F1:\t82.01%\n",
      "Micro-F1:\t84.11%\n"
     ]
    }
   ],
   "source": [
    "if __name__==\"__main__\":\n",
    "    # extras = [ torch.zeros(16) for topic in xTopics ]\n",
    "    #extras = [  torch.cat((torch.from_numpy(topic), sent)) for topic, sent in zip(xTopics, xSentiment) ]\n",
    "    extras = xTopics\n",
    "    data = [ ((emb, extra), label) for (emb, extra, label) in zip(emb_scaler.fit_transform(xnpEmbeddings), extras, yLabelsSmoothed) ]\n",
    "    sd,met = KFoldTraining(data)\n",
    "    print(f\"(FINAL RESULTS)\\nTrain Acc:\\t{met[0]:.2%}\\nVal Acc:\\t{met[1]:.2%}\\nMacro-F1:\\t{met[2]:.2%}\\nMicro-F1:\\t{met[3]:.2%}\")"
   ]
  },
  {
   "cell_type": "markdown",
   "id": "faa00a10-585a-46af-b833-f89b78883771",
   "metadata": {},
   "source": [
    "# Evaluation"
   ]
  },
  {
   "cell_type": "code",
   "execution_count": 271,
   "id": "ede5d577",
   "metadata": {
    "scrolled": true
   },
   "outputs": [
    {
     "name": "stdout",
     "output_type": "stream",
     "text": [
      "==========================anxiety===========================\n",
      "              precision    recall  f1-score   support\n",
      "\n",
      "           0    0.89963   0.92155   0.91046      1313\n",
      "           1    0.79482   0.74719   0.77027       534\n",
      "\n",
      "    accuracy                        0.87114      1847\n",
      "   macro avg    0.84722   0.83437   0.84036      1847\n",
      "weighted avg    0.86933   0.87114   0.86993      1847\n",
      "\n",
      "==========================bipolar===========================\n",
      "              precision    recall  f1-score   support\n",
      "\n",
      "           0    0.88810   0.85534   0.87141      1030\n",
      "           1    0.82573   0.86414   0.84450       817\n",
      "\n",
      "    accuracy                        0.85923      1847\n",
      "   macro avg    0.85692   0.85974   0.85796      1847\n",
      "weighted avg    0.86051   0.85923   0.85951      1847\n",
      "\n",
      "=========================depression=========================\n",
      "              precision    recall  f1-score   support\n",
      "\n",
      "           0    0.89165   0.88651   0.88907      1216\n",
      "           1    0.78370   0.79239   0.78802       631\n",
      "\n",
      "    accuracy                        0.85436      1847\n",
      "   macro avg    0.83767   0.83945   0.83855      1847\n",
      "weighted avg    0.85477   0.85436   0.85455      1847\n",
      "\n"
     ]
    }
   ],
   "source": [
    "m = ConvMLP_soft(n_tasks=3, n_topics=20)\n",
    "m.load_state_dict(torch.load(HOME+\"data/AllBalanced/ConvMLP-soft1.pt\"))\n",
    "# m.load_state_dict(sd)\n",
    "m.eval()\n",
    "data = torch.load(HOME+\"data/AllBalanced/SBERT_embeddings.pt\")\n",
    "xnpEmbeddings = [ emb.numpy() for emb,label in data ]\n",
    "yLabels = [ label for emb,label in data ]\n",
    "\n",
    "# raw_text = [ str(row['text']) for _,row in pd.read_excel(HOME+\"data/RoccoShailikBalanced/dataset_2000.xlsx\").iterrows() ]\n",
    "raw_text = [ str(row['selftext'])+' '+str(row['title']) for _,row in pd.read_excel(HOME+\"data/AllBalanced/dataset_1847.xlsx\").iterrows() ]\n",
    "processor = RBipolarDatasetBuilder(preprocess = light_preprocess, vectorizer = None)\n",
    "topics, extras = topic_model.transform([processor.process_text(raw) for raw in raw_text])\n",
    "\n",
    "data = [ ((emb, extra), label) for (emb, extra, label) in zip(emb_scaler.transform(xnpEmbeddings), extras, yLabels) ]\n",
    "with torch.no_grad():\n",
    "    (x,topic), gt = next(iter(torch.utils.data.DataLoader(data, batch_size=7000)))\n",
    "    x = x.to(dtype=torch.float32).cpu()\n",
    "    topic = topic.to(dtype=torch.float32).cpu()\n",
    "    gt = (gt >= 0.5).to(dtype=torch.int32).transpose(0,1).cpu()\n",
    "    \n",
    "    output = torch.sigmoid(m(x, topic)).cpu()\n",
    "    output = (output.transpose(0,1) >= 0.5).to(torch.int32)\n",
    "    for task, name in enumerate(('anxiety', 'bipolar', 'depression')):\n",
    "        task_output = output[task]\n",
    "        task_gt = gt[task]\n",
    "        print(f\"{name:=^60}\")\n",
    "        print(classification_report(task_gt, task_output, digits=5))"
   ]
  },
  {
   "cell_type": "markdown",
   "id": "5cc751d1-45ac-4c56-b2e4-8b70f1cf2a30",
   "metadata": {},
   "source": [
    "# Case Study"
   ]
  },
  {
   "cell_type": "code",
   "execution_count": 136,
   "id": "26e784d0-b7f2-4296-8873-a3668deb8119",
   "metadata": {},
   "outputs": [],
   "source": [
    "root = \"D:/Python/VTech/data/CaseStudy/\"\n",
    "raw_texts = [ str(row['title'])+\" \"+str(row['selftext']) for i,row in pd.read_csv(HOME+\"data/CaseStudy/dataset_78262.csv\").loc[:,['selftext','title']].iterrows() ]\n",
    "processed_texts = [ light_preprocess(raw_text) for raw_text in raw_texts ]\n",
    "fullprocessed_texts = [ full_preprocess(text, join=True) for text in processed_texts ]"
   ]
  },
  {
   "cell_type": "markdown",
   "id": "9a98a034-8900-48a4-b2a4-5df48453f575",
   "metadata": {
    "jp-MarkdownHeadingCollapsed": true
   },
   "source": [
    "## Predictions"
   ]
  },
  {
   "cell_type": "code",
   "execution_count": null,
   "id": "65cd1dcf-76e2-4227-8041-35245d3baa09",
   "metadata": {},
   "outputs": [],
   "source": [
    "model = ConvMLP_soft(n_tasks=3, n_topics=20)\n",
    "model.load_state_dict(torch.load(HOME+\"data/AllBalanced/ConvMLP-soft1.pt\"))\n",
    "model = model.to(device)\n",
    "model.eval()\n",
    "embs = [emb.cpu().numpy() for emb in torch.load(HOME+\"data/CaseStudy/SBERT_embeddings.pt\")]\n",
    "embs = [torch.from_numpy(emb).to(device) for emb in emb_scaler.transform(embs) ]\n",
    "#embs = torch.load(HOME+\"data/CaseStudy/SBERT_embeddings.pt\")\n",
    "processor = RBipolarDatasetBuilder(preprocess = light_preprocess, vectorizer = None)\n",
    "_,topic_vecs = topic_model.transform([ processor.process_text(raw) for raw_text in raw)\n",
    "topic_vecs = [torch.from_numpy(tv).to(device) for tv in topic_vecs]"
   ]
  },
  {
   "cell_type": "code",
   "execution_count": 347,
   "id": "8020e073-53eb-490c-a8a8-20cb9bbda244",
   "metadata": {},
   "outputs": [
    {
     "name": "stderr",
     "output_type": "stream",
     "text": [
      "100%|██████████████████████████████████████████████████████████████████████████████████| 16/16 [00:00<00:00, 26.28it/s]\n"
     ]
    }
   ],
   "source": [
    "preds = []\n",
    "loader = torch.utils.data.DataLoader(list(zip(embs, topic_vecs)), batch_size=5000)\n",
    "with torch.no_grad():\n",
    "    for emb, tv in tqdm(loader):\n",
    "        #_,topic_vec = topic_model.transform(doc); topic_vec = torch.from_numpy(topic_vec)#.to(device=device)\n",
    "        pred = torch.sigmoid(model(emb.to(torch.float32), tv.to(torch.float32))).cpu()\n",
    "        preds.append(pred)"
   ]
  },
  {
   "cell_type": "code",
   "execution_count": 352,
   "id": "f7a0fb52-5daf-4445-8579-42124e4e5f77",
   "metadata": {},
   "outputs": [],
   "source": [
    "allpreds = torch.concat(preds, dim=0)"
   ]
  },
  {
   "cell_type": "code",
   "execution_count": 354,
   "id": "4e72991d-d116-465b-a67a-30f708077117",
   "metadata": {},
   "outputs": [],
   "source": [
    "torch.save(allpreds, HOME+\"data/CaseStudy/soft1preds.pt\")"
   ]
  },
  {
   "cell_type": "code",
   "execution_count": 361,
   "id": "53496374-0269-466b-9306-94c3abb9b6af",
   "metadata": {},
   "outputs": [
    {
     "name": "stdout",
     "output_type": "stream",
     "text": [
      "HAVING MANIA IS NOT “FUN” [removed]\n",
      "tensor([0.0796, 0.3308, 0.1926])\n"
     ]
    }
   ],
   "source": [
    "print(raw[2050])\n",
    "print(allpreds[2050])"
   ]
  },
  {
   "cell_type": "markdown",
   "id": "590e2e9f-ff5c-422d-b581-c954ecf0d7f0",
   "metadata": {
    "jp-MarkdownHeadingCollapsed": true
   },
   "source": [
    "## Sentiments"
   ]
  },
  {
   "cell_type": "code",
   "execution_count": 399,
   "id": "39ecd574-ad68-4c00-9fd5-eb1a6f5c0922",
   "metadata": {},
   "outputs": [
    {
     "name": "stderr",
     "output_type": "stream",
     "text": [
      "100%|████████████████████████████████████████████████████████████████████████████| 78262/78262 [21:23<00:00, 60.97it/s]\n"
     ]
    }
   ],
   "source": [
    "# negative, neutral, positive\n",
    "from transformers import AutoModelForSequenceClassification, AutoTokenizer, AutoConfig, BatchEncoding\n",
    "from scipy.special import softmax\n",
    "MODEL = f\"cardiffnlp/twitter-roberta-base-sentiment-latest\"\n",
    "tokenizer = AutoTokenizer.from_pretrained(MODEL)\n",
    "model = AutoModelForSequenceClassification.from_pretrained(MODEL).to(device)\n",
    "\n",
    "sentiments = []\n",
    "pbar = tqdm(raw)\n",
    "try:\n",
    "    for text in pbar:\n",
    "        text = light_preprocess(text)\n",
    "        encoded_input = BatchEncoding(tokenizer(text, max_length=512, return_tensors='pt')).to(device)\n",
    "        output = model(**encoded_input)\n",
    "        sent = torch.softmax(output['logits'][0], 0).detach().cpu()\n",
    "        sentiments.append(sent)\n",
    "finally:\n",
    "    pbar.close()"
   ]
  },
  {
   "cell_type": "code",
   "execution_count": 400,
   "id": "15c8daba-f76c-4d98-895b-38155c5f31ef",
   "metadata": {},
   "outputs": [],
   "source": [
    "torch.save(sentiments, HOME+\"data/CaseStudy/RoBERTa-Twitter_sentiments.pt\")"
   ]
  },
  {
   "cell_type": "code",
   "execution_count": 401,
   "id": "633d059c-de33-415f-b9bd-de516fc91b38",
   "metadata": {},
   "outputs": [
    {
     "name": "stderr",
     "output_type": "stream",
     "text": [
      "100%|████████████████████████████████████████████████████████████████████████████| 78262/78262 [17:26<00:00, 74.75it/s]\n"
     ]
    }
   ],
   "source": [
    "# pipe = pipeline('sentiment-analysis', model=\"cardiffnlp/twitter-roberta-base-sentiment-latest\")\n",
    "pipe = pipeline('text-classification', model='bhadresh-savani/bert-base-uncased-emotion', top_k=6, device=device)\n",
    "\n",
    "sentimentMaps = []\n",
    "for text in tqdm(raw):\n",
    "    preds = pipe(text, max_length=512, truncation=True)\n",
    "    sentimentMaps.append(preds)"
   ]
  },
  {
   "cell_type": "code",
   "execution_count": 402,
   "id": "d4e689f1-361a-40b8-a792-8ba92e9cc8a9",
   "metadata": {},
   "outputs": [],
   "source": [
    "# joy, sadness, anger, fear, surprise, love\n",
    "sentimentMaps = [ {map['label']:map['score'] for map in pred[0]} for pred in sentimentMaps ]\n",
    "xSentiment = [ torch.Tensor([s['joy'],s['sadness'],s['anger'],s['fear'],s['surprise'],s['love']]) for s in sentimentMaps]"
   ]
  },
  {
   "cell_type": "code",
   "execution_count": 410,
   "id": "a210b88f-b762-4451-acc2-cb5a5cd87c95",
   "metadata": {},
   "outputs": [],
   "source": [
    "torch.save(xSentiment, HOME+\"data/CaseStudy/BERT_emotions.pt\")"
   ]
  },
  {
   "cell_type": "markdown",
   "id": "a41ed8f1-1b03-4949-aefe-b7ab893a4788",
   "metadata": {
    "jp-MarkdownHeadingCollapsed": true
   },
   "source": [
    "## Topic Modeling"
   ]
  },
  {
   "cell_type": "code",
   "execution_count": 167,
   "id": "6dcf8931-45d8-4b23-9f11-749ae47fd79e",
   "metadata": {},
   "outputs": [
    {
     "data": {
      "application/vnd.jupyter.widget-view+json": {
       "model_id": "9876a1fd330e473eae1ea5ad042f8761",
       "version_major": 2,
       "version_minor": 0
      },
      "text/plain": [
       "Batches:   0%|          | 0/2446 [00:00<?, ?it/s]"
      ]
     },
     "metadata": {},
     "output_type": "display_data"
    },
    {
     "name": "stderr",
     "output_type": "stream",
     "text": [
      "2023-08-09 15:47:20,416 - BERTopic - Transformed documents to Embeddings\n",
      "2023-08-09 15:47:46,904 - BERTopic - Reduced dimensionality\n",
      "2023-08-09 15:50:47,307 - BERTopic - Clustered reduced embeddings\n"
     ]
    }
   ],
   "source": [
    "topic_model = BERTopic(calculate_probabilities=True, min_topic_size=40, verbose=True)\n",
    "topic_data = []\n",
    "tm_topics, prob_vecs = topic_model.fit_transform(fullprocessed_texts)"
   ]
  },
  {
   "cell_type": "code",
   "execution_count": 197,
   "id": "6d77e2a8-fd51-4565-88f7-43dbd69e1046",
   "metadata": {},
   "outputs": [
    {
     "name": "stdout",
     "output_type": "stream",
     "text": [
      "[[9.99999998e-001 0.00000000e+000 0.00000000e+000 ... 0.00000000e+000\n",
      "  0.00000000e+000 0.00000000e+000]\n",
      " [2.22027702e-001 2.56660128e-003 1.15901547e-003 ... 6.25765230e-004\n",
      "  6.24240702e-004 8.55691856e-004]\n",
      " [4.35637293e-001 5.39663076e-216 6.10863065e-216 ... 1.19193817e-224\n",
      "  7.99112404e-225 1.81880621e-002]\n",
      " ...\n",
      " [9.52943081e-001 6.63178928e-003 4.17478769e-003 ... 9.18572623e-004\n",
      "  8.33627681e-004 3.12930121e-003]\n",
      " [1.03028312e-001 3.46281520e-010 3.44262813e-009 ... 2.03371198e-012\n",
      "  1.87326129e-012 2.80589074e-011]\n",
      " [9.99999998e-001 0.00000000e+000 0.00000000e+000 ... 0.00000000e+000\n",
      "  0.00000000e+000 0.00000000e+000]]\n"
     ]
    }
   ],
   "source": [
    "print(topics)"
   ]
  },
  {
   "cell_type": "code",
   "execution_count": 172,
   "id": "b73a456c-a329-479f-9fac-28b079d50d6e",
   "metadata": {},
   "outputs": [
    {
     "data": {
      "text/html": [
       "<div>\n",
       "<style scoped>\n",
       "    .dataframe tbody tr th:only-of-type {\n",
       "        vertical-align: middle;\n",
       "    }\n",
       "\n",
       "    .dataframe tbody tr th {\n",
       "        vertical-align: top;\n",
       "    }\n",
       "\n",
       "    .dataframe thead th {\n",
       "        text-align: right;\n",
       "    }\n",
       "</style>\n",
       "<table border=\"1\" class=\"dataframe\">\n",
       "  <thead>\n",
       "    <tr style=\"text-align: right;\">\n",
       "      <th></th>\n",
       "      <th>Topic</th>\n",
       "      <th>Count</th>\n",
       "      <th>Name</th>\n",
       "      <th>Representation</th>\n",
       "      <th>Representative_Docs</th>\n",
       "    </tr>\n",
       "  </thead>\n",
       "  <tbody>\n",
       "    <tr>\n",
       "      <th>0</th>\n",
       "      <td>-1</td>\n",
       "      <td>35756</td>\n",
       "      <td>-1_like_feel_know_bipolar</td>\n",
       "      <td>[like, feel, know, bipolar, time, get, want, d...</td>\n",
       "      <td>[life constantly crumbling abuser fucking made...</td>\n",
       "    </tr>\n",
       "    <tr>\n",
       "      <th>1</th>\n",
       "      <td>0</td>\n",
       "      <td>40588</td>\n",
       "      <td>0_like_feel_bipolar_get</td>\n",
       "      <td>[like, feel, bipolar, get, know, time, anyone,...</td>\n",
       "      <td>[clue going rant literally human provide sligh...</td>\n",
       "    </tr>\n",
       "    <tr>\n",
       "      <th>2</th>\n",
       "      <td>1</td>\n",
       "      <td>349</td>\n",
       "      <td>1_episode_mixed_hypomanic_like</td>\n",
       "      <td>[episode, mixed, hypomanic, like, long, anyone...</td>\n",
       "      <td>[mixed episode, mixed episode, mixed episode]</td>\n",
       "    </tr>\n",
       "    <tr>\n",
       "      <th>3</th>\n",
       "      <td>2</td>\n",
       "      <td>191</td>\n",
       "      <td>2_relationship_girlfriend_dating_partner</td>\n",
       "      <td>[relationship, girlfriend, dating, partner, bo...</td>\n",
       "      <td>[relationship, relationship, relationship]</td>\n",
       "    </tr>\n",
       "    <tr>\n",
       "      <th>4</th>\n",
       "      <td>3</td>\n",
       "      <td>159</td>\n",
       "      <td>3_advice_need_looking_please</td>\n",
       "      <td>[advice, need, looking, please, help, advise, ...</td>\n",
       "      <td>[advice, advice, advice]</td>\n",
       "    </tr>\n",
       "    <tr>\n",
       "      <th>5</th>\n",
       "      <td>4</td>\n",
       "      <td>141</td>\n",
       "      <td>4_stable_stability_unstable_long</td>\n",
       "      <td>[stable, stability, unstable, long, lockdown, ...</td>\n",
       "      <td>[stable, stable, stable]</td>\n",
       "    </tr>\n",
       "    <tr>\n",
       "      <th>6</th>\n",
       "      <td>5</td>\n",
       "      <td>107</td>\n",
       "      <td>5_cooking_breakfast_pancake_pepper</td>\n",
       "      <td>[cooking, breakfast, pancake, pepper, cooked, ...</td>\n",
       "      <td>[year eating fast food cooking made steak firs...</td>\n",
       "    </tr>\n",
       "    <tr>\n",
       "      <th>7</th>\n",
       "      <td>6</td>\n",
       "      <td>92</td>\n",
       "      <td>6_rapid_cycling_cycle_vicious</td>\n",
       "      <td>[rapid, cycling, cycle, vicious, cycler, ultra...</td>\n",
       "      <td>[rapid cycling, rapid cycling, rapid cycling]</td>\n",
       "    </tr>\n",
       "    <tr>\n",
       "      <th>8</th>\n",
       "      <td>7</td>\n",
       "      <td>86</td>\n",
       "      <td>7_latuda_experience_anyone_esta</td>\n",
       "      <td>[latuda, experience, anyone, esta, afford, vra...</td>\n",
       "      <td>[latuda, latuda, latuda]</td>\n",
       "    </tr>\n",
       "    <tr>\n",
       "      <th>9</th>\n",
       "      <td>8</td>\n",
       "      <td>77</td>\n",
       "      <td>8_related_discussion_med_mega</td>\n",
       "      <td>[related, discussion, med, mega, monday, threa...</td>\n",
       "      <td>[med monday mega thread med related discussion...</td>\n",
       "    </tr>\n",
       "    <tr>\n",
       "      <th>10</th>\n",
       "      <td>9</td>\n",
       "      <td>72</td>\n",
       "      <td>9_tip_depressive_trick_episode</td>\n",
       "      <td>[tip, depressive, trick, episode, narcissistic...</td>\n",
       "      <td>[tip, tip, tip]</td>\n",
       "    </tr>\n",
       "    <tr>\n",
       "      <th>11</th>\n",
       "      <td>10</td>\n",
       "      <td>71</td>\n",
       "      <td>10_vent_venting_need_art</td>\n",
       "      <td>[vent, venting, need, art, gas, mildly, little...</td>\n",
       "      <td>[vent, vent, vent]</td>\n",
       "    </tr>\n",
       "    <tr>\n",
       "      <th>12</th>\n",
       "      <td>11</td>\n",
       "      <td>62</td>\n",
       "      <td>11_journal_journaling_entry_diary</td>\n",
       "      <td>[journal, journaling, entry, diary, writing, r...</td>\n",
       "      <td>[thought journal, journal, journal]</td>\n",
       "    </tr>\n",
       "    <tr>\n",
       "      <th>13</th>\n",
       "      <td>12</td>\n",
       "      <td>59</td>\n",
       "      <td>12_vraylar_anyone_starting_take</td>\n",
       "      <td>[vraylar, anyone, starting, take, vrazy, bedli...</td>\n",
       "      <td>[vraylar, vraylar, vraylar]</td>\n",
       "    </tr>\n",
       "    <tr>\n",
       "      <th>14</th>\n",
       "      <td>13</td>\n",
       "      <td>57</td>\n",
       "      <td>13_portrait_self_digital_first</td>\n",
       "      <td>[portrait, self, digital, first, feeling, depi...</td>\n",
       "      <td>[self portrait, self portrait, self portrait]</td>\n",
       "    </tr>\n",
       "    <tr>\n",
       "      <th>15</th>\n",
       "      <td>14</td>\n",
       "      <td>57</td>\n",
       "      <td>14_abilify_alpaca_taper_update</td>\n",
       "      <td>[abilify, alpaca, taper, update, libedo, heter...</td>\n",
       "      <td>[abilify, abilify, abilify]</td>\n",
       "    </tr>\n",
       "    <tr>\n",
       "      <th>16</th>\n",
       "      <td>15</td>\n",
       "      <td>55</td>\n",
       "      <td>15_scar_tattoo_harm_self</td>\n",
       "      <td>[scar, tattoo, harm, self, cover, covering, go...</td>\n",
       "      <td>[here tattoo got cover old self harm scar, man...</td>\n",
       "    </tr>\n",
       "    <tr>\n",
       "      <th>17</th>\n",
       "      <td>16</td>\n",
       "      <td>51</td>\n",
       "      <td>16_doodle_doodling_primitive_manic</td>\n",
       "      <td>[doodle, doodling, primitive, manic, little, w...</td>\n",
       "      <td>[doodle, doodle, doodle]</td>\n",
       "    </tr>\n",
       "    <tr>\n",
       "      <th>18</th>\n",
       "      <td>17</td>\n",
       "      <td>50</td>\n",
       "      <td>17_rant_need_idk_hate</td>\n",
       "      <td>[rant, need, idk, hate, joblifevent, ranttt, p...</td>\n",
       "      <td>[rant, rant, rant]</td>\n",
       "    </tr>\n",
       "    <tr>\n",
       "      <th>19</th>\n",
       "      <td>18</td>\n",
       "      <td>48</td>\n",
       "      <td>18_trigger_warning_episode_creatine</td>\n",
       "      <td>[trigger, warning, episode, creatine, mix, wal...</td>\n",
       "      <td>[trigger episode, trigger, trigger]</td>\n",
       "    </tr>\n",
       "    <tr>\n",
       "      <th>20</th>\n",
       "      <td>19</td>\n",
       "      <td>46</td>\n",
       "      <td>19_else_anyone_anybody_ob</td>\n",
       "      <td>[else, anyone, anybody, ob, samesies, mortal, ...</td>\n",
       "      <td>[anyone else, anyone else, anyone else]</td>\n",
       "    </tr>\n",
       "    <tr>\n",
       "      <th>21</th>\n",
       "      <td>20</td>\n",
       "      <td>45</td>\n",
       "      <td>20_webp_width_preview_redd</td>\n",
       "      <td>[webp, width, preview, redd, png, format, auto...</td>\n",
       "      <td>[walk line http preview redd wlx png width for...</td>\n",
       "    </tr>\n",
       "    <tr>\n",
       "      <th>22</th>\n",
       "      <td>21</td>\n",
       "      <td>43</td>\n",
       "      <td>21_text_post_cant_reason</td>\n",
       "      <td>[text, post, cant, reason, mobile, screenshot,...</td>\n",
       "      <td>[cant post text, cant post text, cant post text]</td>\n",
       "    </tr>\n",
       "  </tbody>\n",
       "</table>\n",
       "</div>"
      ],
      "text/plain": [
       "    Topic  Count                                      Name  \\\n",
       "0      -1  35756                 -1_like_feel_know_bipolar   \n",
       "1       0  40588                   0_like_feel_bipolar_get   \n",
       "2       1    349            1_episode_mixed_hypomanic_like   \n",
       "3       2    191  2_relationship_girlfriend_dating_partner   \n",
       "4       3    159              3_advice_need_looking_please   \n",
       "5       4    141          4_stable_stability_unstable_long   \n",
       "6       5    107        5_cooking_breakfast_pancake_pepper   \n",
       "7       6     92             6_rapid_cycling_cycle_vicious   \n",
       "8       7     86           7_latuda_experience_anyone_esta   \n",
       "9       8     77             8_related_discussion_med_mega   \n",
       "10      9     72            9_tip_depressive_trick_episode   \n",
       "11     10     71                  10_vent_venting_need_art   \n",
       "12     11     62         11_journal_journaling_entry_diary   \n",
       "13     12     59           12_vraylar_anyone_starting_take   \n",
       "14     13     57            13_portrait_self_digital_first   \n",
       "15     14     57            14_abilify_alpaca_taper_update   \n",
       "16     15     55                  15_scar_tattoo_harm_self   \n",
       "17     16     51        16_doodle_doodling_primitive_manic   \n",
       "18     17     50                     17_rant_need_idk_hate   \n",
       "19     18     48       18_trigger_warning_episode_creatine   \n",
       "20     19     46                 19_else_anyone_anybody_ob   \n",
       "21     20     45                20_webp_width_preview_redd   \n",
       "22     21     43                  21_text_post_cant_reason   \n",
       "\n",
       "                                       Representation  \\\n",
       "0   [like, feel, know, bipolar, time, get, want, d...   \n",
       "1   [like, feel, bipolar, get, know, time, anyone,...   \n",
       "2   [episode, mixed, hypomanic, like, long, anyone...   \n",
       "3   [relationship, girlfriend, dating, partner, bo...   \n",
       "4   [advice, need, looking, please, help, advise, ...   \n",
       "5   [stable, stability, unstable, long, lockdown, ...   \n",
       "6   [cooking, breakfast, pancake, pepper, cooked, ...   \n",
       "7   [rapid, cycling, cycle, vicious, cycler, ultra...   \n",
       "8   [latuda, experience, anyone, esta, afford, vra...   \n",
       "9   [related, discussion, med, mega, monday, threa...   \n",
       "10  [tip, depressive, trick, episode, narcissistic...   \n",
       "11  [vent, venting, need, art, gas, mildly, little...   \n",
       "12  [journal, journaling, entry, diary, writing, r...   \n",
       "13  [vraylar, anyone, starting, take, vrazy, bedli...   \n",
       "14  [portrait, self, digital, first, feeling, depi...   \n",
       "15  [abilify, alpaca, taper, update, libedo, heter...   \n",
       "16  [scar, tattoo, harm, self, cover, covering, go...   \n",
       "17  [doodle, doodling, primitive, manic, little, w...   \n",
       "18  [rant, need, idk, hate, joblifevent, ranttt, p...   \n",
       "19  [trigger, warning, episode, creatine, mix, wal...   \n",
       "20  [else, anyone, anybody, ob, samesies, mortal, ...   \n",
       "21  [webp, width, preview, redd, png, format, auto...   \n",
       "22  [text, post, cant, reason, mobile, screenshot,...   \n",
       "\n",
       "                                  Representative_Docs  \n",
       "0   [life constantly crumbling abuser fucking made...  \n",
       "1   [clue going rant literally human provide sligh...  \n",
       "2       [mixed episode, mixed episode, mixed episode]  \n",
       "3          [relationship, relationship, relationship]  \n",
       "4                            [advice, advice, advice]  \n",
       "5                            [stable, stable, stable]  \n",
       "6   [year eating fast food cooking made steak firs...  \n",
       "7       [rapid cycling, rapid cycling, rapid cycling]  \n",
       "8                            [latuda, latuda, latuda]  \n",
       "9   [med monday mega thread med related discussion...  \n",
       "10                                    [tip, tip, tip]  \n",
       "11                                 [vent, vent, vent]  \n",
       "12                [thought journal, journal, journal]  \n",
       "13                        [vraylar, vraylar, vraylar]  \n",
       "14      [self portrait, self portrait, self portrait]  \n",
       "15                        [abilify, abilify, abilify]  \n",
       "16  [here tattoo got cover old self harm scar, man...  \n",
       "17                           [doodle, doodle, doodle]  \n",
       "18                                 [rant, rant, rant]  \n",
       "19                [trigger episode, trigger, trigger]  \n",
       "20            [anyone else, anyone else, anyone else]  \n",
       "21  [walk line http preview redd wlx png width for...  \n",
       "22   [cant post text, cant post text, cant post text]  "
      ]
     },
     "execution_count": 172,
     "metadata": {},
     "output_type": "execute_result"
    }
   ],
   "source": [
    "topic_model.get_topic_info()"
   ]
  },
  {
   "cell_type": "code",
   "execution_count": 171,
   "id": "2ba7f57e-8c99-416d-80da-a3c30bb94387",
   "metadata": {},
   "outputs": [
    {
     "name": "stderr",
     "output_type": "stream",
     "text": [
      "2023-08-09 15:51:44,851 - BERTopic - Reduced number of topics from 110 to 23\n"
     ]
    },
    {
     "data": {
      "text/plain": [
       "<bertopic._bertopic.BERTopic at 0x196d47a2d90>"
      ]
     },
     "execution_count": 171,
     "metadata": {},
     "output_type": "execute_result"
    }
   ],
   "source": [
    "topic_model.reduce_topics(fullprocessed_texts, nr_topics='auto')"
   ]
  },
  {
   "cell_type": "code",
   "execution_count": 176,
   "id": "afd70e06-fb68-4cb8-9488-beadd6e076bd",
   "metadata": {},
   "outputs": [
    {
     "data": {
      "application/vnd.jupyter.widget-view+json": {
       "model_id": "fa54b460ed55451595b63ede7eadb65b",
       "version_major": 2,
       "version_minor": 0
      },
      "text/plain": [
       "Batches:   0%|          | 0/2446 [00:00<?, ?it/s]"
      ]
     },
     "metadata": {},
     "output_type": "display_data"
    },
    {
     "name": "stderr",
     "output_type": "stream",
     "text": [
      "2023-08-09 15:55:12,503 - BERTopic - Reduced dimensionality\n",
      "2023-08-09 15:58:33,495 - BERTopic - Calculated probabilities with HDBSCAN\n",
      "2023-08-09 15:58:33,495 - BERTopic - Predicted clusters\n"
     ]
    },
    {
     "name": "stdout",
     "output_type": "stream",
     "text": [
      "(78262, 22)\n"
     ]
    }
   ],
   "source": [
    "topics, prob_vecs = topic_model.transform(fullprocessed_texts)"
   ]
  },
  {
   "cell_type": "code",
   "execution_count": 177,
   "id": "a23fd912-382a-407e-8346-c3fca07cc5eb",
   "metadata": {},
   "outputs": [],
   "source": [
    "torch.save(prob_vecs, HOME+\"data/CaseStudy/topics22.pt\")"
   ]
  },
  {
   "cell_type": "markdown",
   "id": "50d51866-5404-4ff3-9455-5aa9cfaa00a8",
   "metadata": {},
   "source": [
    "## Keyphrase Extraction"
   ]
  },
  {
   "cell_type": "markdown",
   "id": "7c2b5a95-82ad-45ac-aedb-f9ce5f5c21b1",
   "metadata": {},
   "source": [
    "### Clustering"
   ]
  },
  {
   "cell_type": "code",
   "execution_count": 137,
   "id": "b226860e-65a9-4def-b27e-94029960de42",
   "metadata": {},
   "outputs": [],
   "source": [
    "preds = torch.load(root+\"soft1preds.pt\")\n",
    "# sents = torch.load(root+\"RoBERTa-Twitter_sentiments.pt\")\n",
    "sents = torch.load(root+\"BERT_emotions.pt\")\n",
    "topics = torch.load(root+\"topics22.pt\")"
   ]
  },
  {
   "cell_type": "code",
   "execution_count": 387,
   "id": "cf03d4c8-0a9c-4ff7-88da-16c02eab1135",
   "metadata": {},
   "outputs": [
    {
     "name": "stdout",
     "output_type": "stream",
     "text": [
      "torch.Size([3, 78262])\n",
      "tensor(16273) tensor(34618) tensor(20938)\n"
     ]
    }
   ],
   "source": [
    "preds = preds.transpose(0,1)\n",
    "print(preds.shape)\n",
    "print((preds[0] >= 0.5).sum(), (preds[1] >= 0.5).sum(), (preds[2] >= 0.5).sum())"
   ]
  },
  {
   "cell_type": "code",
   "execution_count": 138,
   "id": "bbe7b299-6767-46e1-b6f5-fcf51251b8c0",
   "metadata": {},
   "outputs": [],
   "source": [
    "X = torch.concat( (preds,sents[:,[0,2]]), dim=1).to(torch.float64) # positive & negative OR joy and anger"
   ]
  },
  {
   "cell_type": "code",
   "execution_count": 145,
   "id": "af223dad-9c83-4bb9-8d5f-69f05d42182c",
   "metadata": {},
   "outputs": [],
   "source": [
    "n_clusters = 30\n",
    "# clustering = MiniBatchKMeans(n_clusters=n_clusters, init=\"k-means++\", batch_size=2048,max_iter=1000)\n",
    "# clustering = HDBSCAN(min_cluster_size=30, min_samples=100,max_cluster_size=10000,cluster_selection_epsilon=0, n_jobs=-1)\n",
    "# clustering = OPTICS(min_samples=5, max_eps=0.1, min_cluster_size=30, n_jobs=-1)\n",
    "clustering = Birch(threshold=0.33, n_clusters=None)\n",
    "# clustering = GaussianMixture()"
   ]
  },
  {
   "cell_type": "code",
   "execution_count": 215,
   "id": "5f9c37d6-9430-4b01-a9d6-8487a53c6c53",
   "metadata": {},
   "outputs": [],
   "source": [
    "one_hots = (preds >= 0.5).to(torch.int)\n",
    "n_clusters = 8\n",
    "combination_ids = {\n",
    "    (0,0,0):0,\n",
    "    (0,0,1):1,\n",
    "    (0,1,0):2,\n",
    "    (0,1,1):3,\n",
    "    (1,0,0):4,\n",
    "    (1,0,1):5,\n",
    "    (1,1,0):6,\n",
    "    (1,1,1):7,\n",
    "}\n",
    "clusters = [ combination_ids[tuple(preds.tolist())] for preds in one_hots ]"
   ]
  },
  {
   "cell_type": "code",
   "execution_count": 146,
   "id": "7b889a9d-552c-40a6-9df4-1b2f755024cd",
   "metadata": {},
   "outputs": [],
   "source": [
    "clusters = clustering.fit_predict(X)"
   ]
  },
  {
   "cell_type": "code",
   "execution_count": 216,
   "id": "7fa9686b-3239-4b2a-941e-2eabd43b42ad",
   "metadata": {},
   "outputs": [
    {
     "name": "stdout",
     "output_type": "stream",
     "text": [
      "0 outliers\n",
      "Cluster sizes:\n",
      "36338\n",
      "5341\n",
      "11651\n",
      "8659\n",
      "1680\n",
      "285\n",
      "7655\n",
      "6653\n"
     ]
    }
   ],
   "source": [
    "n_clusters = 8\n",
    "clustered_texts = [ [] for _ in range(n_clusters)]\n",
    "clustered_texts_textids = [ [] for _ in range(n_clusters) ]\n",
    "outliers = []\n",
    "for text_id, (text, cluster_id) in enumerate(zip(processed_texts, clusters)):\n",
    "    if cluster_id >= 0:\n",
    "        clustered_texts[cluster_id].append(text)\n",
    "        clustered_texts_textids[cluster_id].append(text_id)\n",
    "    else:\n",
    "        outliers.append(text)\n",
    "print(len(outliers), \"outliers\")\n",
    "print(\"Cluster sizes:\")\n",
    "for c in clustered_texts:\n",
    "    print(len(c))"
   ]
  },
  {
   "cell_type": "markdown",
   "id": "88c25546-829a-43fd-b43f-0c9ba263534a",
   "metadata": {},
   "source": [
    "### Extraction"
   ]
  },
  {
   "cell_type": "code",
   "execution_count": 149,
   "id": "669ba26d-b4d6-4895-9fe5-16b006f5382d",
   "metadata": {},
   "outputs": [],
   "source": [
    "cluster_topicavgs = [ np.mean([topics[id] for id in cluster_ids ], axis=1) \n",
    "                        for cluster_ids in clustered_texts_textids ]"
   ]
  },
  {
   "cell_type": "code",
   "execution_count": 150,
   "id": "ae6729bf-78c6-4161-b0d9-b456874b4c97",
   "metadata": {},
   "outputs": [
    {
     "name": "stdout",
     "output_type": "stream",
     "text": [
      "[4, 3, 22, 14, 21, 6, 2, 7, 10, 17, 5, 8, 12, 13, 16, 19, 15, 1, 18, 11, 9, 20]\n",
      "[3, 16, 19, 2, 10, 20, 14, 4, 11, 1, 21, 13, 22, 7, 12, 15, 5, 18, 17, 8, 6, 9]\n",
      "[7, 13, 9, 1, 17, 14, 12, 22, 19, 8, 21, 11, 18, 20, 6, 2, 15, 16, 4, 5, 10, 3]\n",
      "[10, 11, 19, 2, 12, 18, 17, 13, 4, 5, 6, 8, 9, 15, 3, 21, 1, 20, 14, 7, 22, 16]\n",
      "[11, 19, 1, 3, 8, 7, 10, 15, 13, 5, 14, 22, 6, 2, 21, 4, 16, 9, 17, 20, 12, 18]\n",
      "[11, 12, 6, 22, 3, 17, 8, 9, 19, 5, 2, 18, 14, 13, 15, 21, 7, 1, 4, 16, 10, 20]\n",
      "[4, 11, 16, 15, 3, 13, 14, 2, 6, 1, 12, 7, 20, 8, 9, 5, 18, 17, 22, 19, 10, 21]\n",
      "[10, 16, 15, 4, 9, 20, 13, 1, 2, 22, 21, 8, 7, 6, 12, 17, 5, 11, 19, 18, 14, 3]\n",
      "[5, 7, 19, 11, 10, 1, 4, 15, 6, 22, 16, 17, 20, 18, 14, 13, 9, 3, 12, 21, 8, 2]\n",
      "[1, 5, 12, 3, 8, 4, 15, 2, 6, 21, 20, 9, 10, 11, 22, 19, 13, 7, 14, 16, 17, 18]\n"
     ]
    }
   ],
   "source": [
    "for topicavg in cluster_topicavgs:\n",
    "    top_topics = sorted(range(1,23), key=(lambda t: topicavg[t-1]), reverse=True)\n",
    "    print(top_topics)"
   ]
  },
  {
   "cell_type": "code",
   "execution_count": 217,
   "id": "828f8b88-538f-410e-bef5-de302e5bb5a2",
   "metadata": {},
   "outputs": [
    {
     "data": {
      "application/vnd.jupyter.widget-view+json": {
       "model_id": "e009c76ff6fa4a9f950c2615dbefc29e",
       "version_major": 2,
       "version_minor": 0
      },
      "text/plain": [
       "Clusters:   0%|          | 0/8 [00:00<?, ?it/s]"
      ]
     },
     "metadata": {},
     "output_type": "display_data"
    },
    {
     "data": {
      "application/vnd.jupyter.widget-view+json": {
       "model_id": "",
       "version_major": 2,
       "version_minor": 0
      },
      "text/plain": [
       "Current Cluster:   0%|          | 0/36338 [00:00<?, ?docs/s]"
      ]
     },
     "metadata": {},
     "output_type": "display_data"
    },
    {
     "data": {
      "application/vnd.jupyter.widget-view+json": {
       "model_id": "",
       "version_major": 2,
       "version_minor": 0
      },
      "text/plain": [
       "Current Cluster:   0%|          | 0/5341 [00:00<?, ?docs/s]"
      ]
     },
     "metadata": {},
     "output_type": "display_data"
    },
    {
     "data": {
      "application/vnd.jupyter.widget-view+json": {
       "model_id": "",
       "version_major": 2,
       "version_minor": 0
      },
      "text/plain": [
       "Current Cluster:   0%|          | 0/11651 [00:00<?, ?docs/s]"
      ]
     },
     "metadata": {},
     "output_type": "display_data"
    },
    {
     "data": {
      "application/vnd.jupyter.widget-view+json": {
       "model_id": "",
       "version_major": 2,
       "version_minor": 0
      },
      "text/plain": [
       "Current Cluster:   0%|          | 0/8659 [00:00<?, ?docs/s]"
      ]
     },
     "metadata": {},
     "output_type": "display_data"
    },
    {
     "data": {
      "application/vnd.jupyter.widget-view+json": {
       "model_id": "",
       "version_major": 2,
       "version_minor": 0
      },
      "text/plain": [
       "Current Cluster:   0%|          | 0/1680 [00:00<?, ?docs/s]"
      ]
     },
     "metadata": {},
     "output_type": "display_data"
    },
    {
     "data": {
      "application/vnd.jupyter.widget-view+json": {
       "model_id": "",
       "version_major": 2,
       "version_minor": 0
      },
      "text/plain": [
       "Current Cluster:   0%|          | 0/285 [00:00<?, ?docs/s]"
      ]
     },
     "metadata": {},
     "output_type": "display_data"
    },
    {
     "data": {
      "application/vnd.jupyter.widget-view+json": {
       "model_id": "",
       "version_major": 2,
       "version_minor": 0
      },
      "text/plain": [
       "Current Cluster:   0%|          | 0/7655 [00:00<?, ?docs/s]"
      ]
     },
     "metadata": {},
     "output_type": "display_data"
    },
    {
     "data": {
      "application/vnd.jupyter.widget-view+json": {
       "model_id": "",
       "version_major": 2,
       "version_minor": 0
      },
      "text/plain": [
       "Current Cluster:   0%|          | 0/6653 [00:00<?, ?docs/s]"
      ]
     },
     "metadata": {},
     "output_type": "display_data"
    }
   ],
   "source": [
    "from utils import en_stopwords, reddit_words\n",
    "spacy.require_gpu()\n",
    "nlp = spacy.load('en_core_web_sm')\n",
    "\n",
    "percluster_keywords = []\n",
    "extractor = pke.unsupervised.MultipartiteRank()\n",
    "for texts in tqdm(clustered_texts, desc=\"Clusters\"):\n",
    "    keyphrasesL = []\n",
    "    for doc in tqdm(nlp.pipe(texts), total=len(texts), desc=\"Current Cluster\", leave=False, unit='docs'):\n",
    "        # doc = [ tuple(full_preprocess(text)) for text in texts]\n",
    "        extractor.load_document(input=doc, language='en', normalization=None, stoplist=en_stopwords.union(reddit_words))\n",
    "        # # Yake\n",
    "        # extractor.candidate_selection()#n=5)\n",
    "        # extractor.candidate_weighting(window=2,use_stems=True)\n",
    "        # keyphrases = extractor.get_n_best(n=3)#, threshold=0.8)\n",
    "        # # singlerank\n",
    "        # extractor.candidate_selection()#n=5)\n",
    "        # extractor.candidate_weighting(window=2,use_stems=True)\n",
    "        # keyphrases = extractor.get_n_best(n=3)#, threshold=0.8)\n",
    "        # multipartiterank\n",
    "        extractor.candidate_selection()#n=5)\n",
    "        extractor.candidate_weighting()\n",
    "        keyphrases = extractor.get_n_best(n=5)#, threshold=0.8)\n",
    "        keyphrasesL.append(keyphrases)\n",
    "        \n",
    "    total_keyphrases = {}\n",
    "    for doc_keys in keyphrasesL:\n",
    "        for phrase, score in doc_keys:\n",
    "            if phrase in total_keyphrases:\n",
    "                total_keyphrases[phrase][0] += score\n",
    "                total_keyphrases[phrase][1] += 1\n",
    "            else:\n",
    "                total_keyphrases[phrase] = [score, 1]\n",
    "    \n",
    "    # kw = sorted(total_keyphrases.keys(), key=lambda x: total_keyphrases[x], reverse=True)\n",
    "    percluster_keywords.append(total_keyphrases)"
   ]
  },
  {
   "cell_type": "code",
   "execution_count": 260,
   "id": "900befe1-4e8c-4486-8966-2b43e84988c2",
   "metadata": {},
   "outputs": [],
   "source": [
    "kw_freqs = dict()\n",
    "for kws in percluster_keywords:\n",
    "    kws = sorted(kws.items(), key=lambda kw: kw[1][0], reverse=True)[:100]\n",
    "    for kw, (score,freq) in kws:\n",
    "        if kw not in kw_freqs:\n",
    "            kw_freqs[kw] = 1\n",
    "        else:\n",
    "            kw_freqs[kw] += 1\n",
    "# cluster_kwfreqs = []\n",
    "# for kws in percluster_keywords:\n",
    "#     tot = 0\n",
    "#     for tot_score, tot_votes in kws.values():\n",
    "#         tot += tot_votes\n",
    "#     freqs = {}\n",
    "#     for kw, (score, votes) in kws.items():\n",
    "#         freqs[kw] = math.sqrt(votes/tot)\n",
    "#     cluster_kwfreqs.append(freqs)"
   ]
  },
  {
   "cell_type": "code",
   "execution_count": 189,
   "id": "e823a1fa-0d0b-4e60-aab9-949b398e948b",
   "metadata": {},
   "outputs": [],
   "source": [
    "corpus_inversekwfreqs = {}\n",
    "for kws in cluster_kwfreqs:\n",
    "    for kw, prop in kws.items():\n",
    "        if kw not in corpus_inversekwfreqs:\n",
    "            corpus_inversekwfreqs[kw] = prop\n",
    "        else:\n",
    "            corpus_inversekwfreqs[kw] += prop"
   ]
  },
  {
   "cell_type": "code",
   "execution_count": 266,
   "id": "84dede5a-3151-4c44-832a-364f2c56c48e",
   "metadata": {},
   "outputs": [
    {
     "name": "stdout",
     "output_type": "stream",
     "text": [
      "['art', 'poll', 'question', 'experience', 'artwork', 'vraylar', 'psychosis', 'new', 'post', 'song']\n",
      "['depressive episode', 'suicide', 'suicidal thoughts', 'suicidal', 'depressive episodes', 'lonely', 'pain', 'self harm', 'overwhelming pain physical ptsd relate', 'poem']\n",
      "['manic episodes', 'adhd', 'curious', 'experience', 'bipolar type', 'depakote', 'side effects', 'psychosis', 'experiences', 'thanks']\n",
      "['bipolar depression', 'depressive episode', 'depression mania', 'suicidal', 'suicidal thoughts', 'mania depression', 'manic episodes', 'wellbutrin', 'antidepressants', 'times']\n",
      "['paranoia', 'anxious', 'nervous', 'paranoid', 'panic attacks', 'relationship', 'death', 'insomnia', 'panic attack', 'minutes']\n",
      "['end', 'depression anxiety', 'death', 'talk', 'alone', 'close friends', 'self portrait', 'money', 'skin', 'last']\n",
      "['anxious', 'adhd', 'worried', 'nervous', 'paranoia', 'psychosis', 'panic attacks', 'intrusive thoughts', 'paranoid', 'last night']\n",
      "['last', 'adhd', 'parents', 'angry', 'last year', 'school', 'relationship', 'manic episodes', 'house', 'anxious']\n"
     ]
    }
   ],
   "source": [
    "percluster_unique_kws = []\n",
    "exclusion_threshold = int(0.5 * n_clusters)\n",
    "# for kwfreq_map in cluster_kwfreqs:\n",
    "    # sortbyunique = sorted(kwfreq_map.keys(), key=lambda kw: kwfreq_map[kw] / corpus_inversekwfreqs[kw], reverse=True)\n",
    "    # sortbyunique = sorted(kwfreq_map.items(), key=lambda kw: kwfreq_map[kw[0]] / corpus_inversekwfreqs[kw[0]], reverse=True)\n",
    "\n",
    "for kws in percluster_keywords:\n",
    "    sortbyunique = sorted(kws.keys(), key=lambda kw: kws[kw][0]*(1 if (kw not in kw_freqs) or (kw in kw_freqs and kw_freqs[kw] < exclusion_threshold) else 0), reverse=True)\n",
    "    # sortbyunique = sorted(kws.items(), key=lambda kw: kw[1][1]*(1 if (kw[0] not in kw_freqs) or (kw[0] in kw_freqs and kw_freqs[kw[0]] < exclusion_threshold) else 0), reverse=True)\n",
    "    percluster_unique_kws.append(sortbyunique)\n",
    "\n",
    "for kws in percluster_unique_kws:\n",
    "    print(kws[:10])"
   ]
  },
  {
   "cell_type": "code",
   "execution_count": null,
   "id": "d370434a-134c-4dba-9101-2d6684f4290d",
   "metadata": {},
   "outputs": [],
   "source": []
  }
 ],
 "metadata": {
  "kernelspec": {
   "display_name": "Python 3 (ipykernel)",
   "language": "python",
   "name": "python3"
  },
  "language_info": {
   "codemirror_mode": {
    "name": "ipython",
    "version": 3
   },
   "file_extension": ".py",
   "mimetype": "text/x-python",
   "name": "python",
   "nbconvert_exporter": "python",
   "pygments_lexer": "ipython3",
   "version": "3.11.4"
  }
 },
 "nbformat": 4,
 "nbformat_minor": 5
}
